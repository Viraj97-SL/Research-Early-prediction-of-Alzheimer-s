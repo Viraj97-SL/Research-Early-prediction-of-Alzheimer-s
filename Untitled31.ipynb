{
  "cells": [
    {
      "cell_type": "code",
      "execution_count": 1,
      "metadata": {
        "colab": {
          "base_uri": "https://localhost:8080/"
        },
        "id": "idPvON3Zf5t3",
        "outputId": "c1fb5d59-9aab-4ef1-ee89-d943e96e932f"
      },
      "outputs": [
        {
          "output_type": "stream",
          "name": "stdout",
          "text": [
            "GPU: Tesla T4\n"
          ]
        }
      ],
      "source": [
        "import torch, platform, os\n",
        "assert torch.cuda.is_available(), \"GPU not detected—check runtime type.\"\n",
        "print(\"GPU:\", torch.cuda.get_device_name(0))\n",
        "\n"
      ]
    },
    {
      "cell_type": "code",
      "execution_count": 2,
      "metadata": {
        "colab": {
          "base_uri": "https://localhost:8080/"
        },
        "id": "7KQv37AKgMDU",
        "outputId": "f6653dc7-3264-41b7-e550-d004592834d2"
      },
      "outputs": [
        {
          "output_type": "stream",
          "name": "stdout",
          "text": [
            "Mounted at /content/drive\n"
          ]
        }
      ],
      "source": [
        "from google.colab import drive\n",
        "drive.mount('/content/drive')\n"
      ]
    },
    {
      "cell_type": "code",
      "execution_count": 3,
      "metadata": {
        "id": "_51PspBHgVRv"
      },
      "outputs": [],
      "source": [
        "!tar -xf /content/drive/MyDrive/ADNI_project/data/adni_bids_raw.tar.gz -C /content\n"
      ]
    },
    {
      "cell_type": "code",
      "execution_count": 1,
      "metadata": {
        "colab": {
          "base_uri": "https://localhost:8080/"
        },
        "id": "FMYrEwlpgZ8j",
        "outputId": "9c73d945-6d51-4799-d972-1edd66783866"
      },
      "outputs": [
        {
          "output_type": "stream",
          "name": "stdout",
          "text": [
            "[Errno 2] No such file or directory: '/content/adni_resnet_code'\n",
            "/content\n",
            "total 52K\n",
            "drwxr-xr-x 190 1000 1001 4.0K Jul  8 06:59 ADNI_BIDS_raw\n",
            "drwx------   5 root root 4.0K Jul 15 01:48 drive\n",
            "drwxr-xr-x   1 root root 4.0K Jul 11 18:44 sample_data\n",
            "-rw-r--r--   1 root root 9.9K Jul 15 01:56 test.csv\n",
            "-rw-r--r--   1 root root  23K Jul 15 01:56 train.csv\n",
            "-rw-r--r--   1 root root 3.3K Jul 15 01:56 val.csv\n",
            "./.config/default_configs.db\n",
            "./.config/config_sentinel\n",
            "./.config/hidden_gcloud_config_universe_descriptor_data_cache_configs.db\n",
            "./.config/gce\n",
            "./.config/.last_survey_prompt.yaml\n",
            "./.config/.last_update_check.json\n",
            "./.config/active_config\n",
            "./.config/.last_opt_in_prompt.yaml\n",
            "./test.csv\n",
            "./val.csv\n",
            "./train.csv\n",
            "./sample_data/README.md\n",
            "./sample_data/anscombe.json\n",
            "./sample_data/mnist_test.csv\n",
            "./sample_data/california_housing_train.csv\n",
            "./sample_data/california_housing_test.csv\n",
            "./sample_data/mnist_train_small.csv\n"
          ]
        }
      ],
      "source": [
        "# basic listing\n",
        "%cd /content/adni_resnet_code\n",
        "!ls -lh\n",
        "\n",
        "# (optional) show the first 30 files in a recursive tree\n",
        "!find . -maxdepth 2 -type f -print | head -n 30\n"
      ]
    },
    {
      "cell_type": "code",
      "execution_count": 2,
      "metadata": {
        "colab": {
          "base_uri": "https://localhost:8080/"
        },
        "id": "K5LnnxHphh6X",
        "outputId": "5de6e16e-614a-4d26-da37-9aa917cea7f4"
      },
      "outputs": [
        {
          "output_type": "stream",
          "name": "stdout",
          "text": [
            "(393, 3) (84, 3) (84, 3)\n"
          ]
        }
      ],
      "source": [
        "import pathlib, pandas as pd, random, os\n",
        "root = pathlib.Path('/content/ADNI_BIDS_raw')\n",
        "nii_files = list(root.rglob('*_T1w.nii.gz'))      # adjust pattern if needed\n",
        "\n",
        "def label_from_path(p):\n",
        "    # simple example: LMCI / CN / AD encoded in the path\n",
        "    if 'LMCI' in p.parts: return 'LMCI'\n",
        "    if 'AD'   in p.parts: return 'AD'\n",
        "    return 'CN'\n",
        "\n",
        "records = [{'subject': p.parent.name, 'file_path': str(p), 'label': label_from_path(p)}\n",
        "           for p in nii_files]\n",
        "\n",
        "random.shuffle(records)\n",
        "df = pd.DataFrame(records)\n",
        "train_df  = df.sample(frac=0.7, random_state=42)\n",
        "remain    = df.drop(train_df.index)\n",
        "val_df    = remain.sample(frac=0.5, random_state=42)\n",
        "test_df   = remain.drop(val_df.index)\n",
        "\n",
        "for name, subset in [('train',train_df),('val',val_df),('test',test_df)]:\n",
        "    subset.to_csv(f'{name}.csv', index=False)\n",
        "print(train_df.shape, val_df.shape, test_df.shape)\n"
      ]
    },
    {
      "cell_type": "code",
      "execution_count": 3,
      "metadata": {
        "colab": {
          "base_uri": "https://localhost:8080/"
        },
        "id": "0Cgn0XaRhoew",
        "outputId": "4136a70f-9407-41bb-bd65-8cd85172a10d"
      },
      "outputs": [
        {
          "output_type": "stream",
          "name": "stdout",
          "text": [
            "\u001b[33mWARNING: typer 0.16.0 does not provide the extra 'all'\u001b[0m\u001b[33m\n",
            "\u001b[0m"
          ]
        }
      ],
      "source": [
        "# Install torch-compatible TorchIO build\n",
        "!pip install -q torchio==0.19.1\n",
        "\n",
        "# Restart the Python import so Colab sees the package\n",
        "import torch, torchio as tio, torch.nn as nn\n",
        "import pandas as pd                         # <- we need this for read_csv\n"
      ]
    },
    {
      "cell_type": "code",
      "execution_count": 4,
      "metadata": {
        "colab": {
          "base_uri": "https://localhost:8080/"
        },
        "id": "8Oj23bFKhr_c",
        "outputId": "324e6fdd-5542-4fae-fa05-071ebf692058"
      },
      "outputs": [
        {
          "output_type": "stream",
          "name": "stdout",
          "text": [
            "torch: 2.6.0+cu124 | torchio: 0.19.1\n"
          ]
        }
      ],
      "source": [
        "print(\"torch:\", torch.__version__, \"| torchio:\", tio.__version__)\n"
      ]
    },
    {
      "cell_type": "code",
      "execution_count": 5,
      "metadata": {
        "id": "N14a1zDeiH3X"
      },
      "outputs": [],
      "source": [
        "import torch, torchio as tio, torch.nn as nn, pandas as pd, random, pathlib\n",
        "\n",
        "class MRIDataset(torch.utils.data.Dataset):\n",
        "    def __init__(self, csv_path, transform):\n",
        "        self.df = pd.read_csv(csv_path)\n",
        "        self.transform = transform\n",
        "        # map string labels → ints once\n",
        "        label_set = sorted(self.df['label'].unique())\n",
        "        self.label_map = {lbl:i for i,lbl in enumerate(label_set)}\n",
        "    def __len__(self):\n",
        "        return len(self.df)\n",
        "    def __getitem__(self, idx):\n",
        "        row = self.df.iloc[idx]\n",
        "        img = tio.ScalarImage(row.file_path)\n",
        "        img = self.transform(img)\n",
        "        label = torch.tensor(self.label_map[row.label])\n",
        "        return img.data, label\n"
      ]
    },
    {
      "cell_type": "code",
      "execution_count": 20,
      "metadata": {
        "colab": {
          "base_uri": "https://localhost:8080/"
        },
        "id": "zdIQx5QqiK_Q",
        "outputId": "94fee6d0-d937-4575-a071-06ac632ad571"
      },
      "outputs": [
        {
          "output_type": "stream",
          "name": "stdout",
          "text": [
            "Subjects per class before split:\n",
            "label\n",
            "CN        10\n",
            "AD_MCI     8\n",
            "Name: count, dtype: int64\n",
            "train subjects 12 scans 216 label dist {'CN': 132, 'AD_MCI': 84}\n",
            "val   subjects 3 scans 30 label dist {'CN': 21, 'AD_MCI': 9}\n",
            "test  subjects 3 scans 93 label dist {'CN': 69, 'AD_MCI': 24}\n"
          ]
        }
      ],
      "source": [
        "import pandas as pd, pathlib, re\n",
        "from sklearn.model_selection import train_test_split\n",
        "import random\n",
        "\n",
        "# === 1. merge scans with ADNIMERGE diagnosis (same as before) =================\n",
        "meta_path = '/content/drive/MyDrive/ADNI_NewDS/ADNIMERGE_08Jun2025.csv'\n",
        "meta = pd.read_csv(meta_path, low_memory=False)\n",
        "\n",
        "meta = (meta.sort_values('EXAMDATE')\n",
        "             .groupby('RID', as_index=False)\n",
        "             .first()[['RID', 'DX_bl']])\n",
        "\n",
        "# ---- A. map diagnoses: AD + LMCI -> 'AD_MCI'  ----\n",
        "DX_MAP = {'CN':'CN', 'NL':'CN',\n",
        "          'MCI':'AD_MCI', 'LMCI':'AD_MCI',\n",
        "          'AD':'AD_MCI', 'Dementia':'AD_MCI'}\n",
        "meta['label'] = meta['DX_bl'].map(DX_MAP)\n",
        "meta = meta.dropna(subset=['label'])\n",
        "\n",
        "bids_root = pathlib.Path('/content/ADNI_BIDS_raw')\n",
        "nii_files = list(bids_root.rglob('*_T1w.nii.gz'))\n",
        "\n",
        "scans = []\n",
        "for f in nii_files:\n",
        "    m = re.search(r'sub-(\\d+)', f.as_posix())\n",
        "    if m:\n",
        "        scans.append({'RID': int(m.group(1)), 'file_path': f.as_posix()})\n",
        "scans = pd.DataFrame(scans)\n",
        "\n",
        "df = (scans.merge(meta, on='RID', how='inner')\n",
        "           .rename(columns={'RID': 'subject'}))\n",
        "\n",
        "print(\"Subjects per class before split:\")\n",
        "print(df[['subject','label']].drop_duplicates()['label'].value_counts())\n",
        "\n",
        "# === 2. subject-level stratified split (binary) ================================\n",
        "subj_df = df[['subject','label']].drop_duplicates()\n",
        "\n",
        "train_subj, tmp_subj = train_test_split(\n",
        "    subj_df, test_size=0.30, random_state=42, stratify=subj_df['label'])\n",
        "\n",
        "val_subj, test_subj = train_test_split(\n",
        "    tmp_subj, test_size=0.50, random_state=42, stratify=tmp_subj['label'])\n",
        "\n",
        "train_df = df[df.subject.isin(train_subj.subject)]\n",
        "val_df   = df[df.subject.isin(val_subj.subject)]\n",
        "test_df  = df[df.subject.isin(test_subj.subject)]\n",
        "\n",
        "for name, subset in [('train',train_df), ('val',val_df), ('test',test_df)]:\n",
        "    subset.to_csv(f'{name}.csv', index=False)\n",
        "    print(name.ljust(5),\n",
        "          'subjects', subset.subject.nunique(),\n",
        "          'scans',    len(subset),\n",
        "          'label dist', subset.label.value_counts().to_dict())\n"
      ]
    },
    {
      "cell_type": "code",
      "source": [
        "# --------- DataLoaders v2  (batch = 2, no sampler) --------------------------\n",
        "train_dl = torch.utils.data.DataLoader(\n",
        "    train_ds,\n",
        "    batch_size=2,          # was 1\n",
        "    shuffle=True,\n",
        "    num_workers=2,         # was 0\n",
        "    pin_memory=True)\n",
        "\n",
        "val_dl   = torch.utils.data.DataLoader(\n",
        "    val_ds,\n",
        "    batch_size=2,\n",
        "    shuffle=False,\n",
        "    num_workers=2,\n",
        "    pin_memory=True)\n"
      ],
      "metadata": {
        "id": "Y7mdnM9W1NyX"
      },
      "execution_count": 21,
      "outputs": []
    },
    {
      "cell_type": "code",
      "execution_count": 22,
      "metadata": {
        "id": "5wlEOOM6iOSi"
      },
      "outputs": [],
      "source": [
        "train_ds = MRIDataset('train.csv', train_tf)\n",
        "val_ds   = MRIDataset('val.csv',   val_tf)\n",
        "\n",
        "# balanced sampler (binary)\n",
        "from collections import Counter\n",
        "weights = [1/Counter(train_ds.df.label)[lbl]  for lbl in train_ds.df.label]\n",
        "sampler = torch.utils.data.WeightedRandomSampler(weights,\n",
        "                                                 num_samples=len(weights),\n",
        "                                                 replacement=True)\n",
        "\n",
        "train_dl = torch.utils.data.DataLoader(train_ds, batch_size=1,\n",
        "                                       sampler=sampler, num_workers=0)\n",
        "val_dl   = torch.utils.data.DataLoader(val_ds, batch_size=1,\n",
        "                                       shuffle=False, num_workers=0)\n"
      ]
    },
    {
      "cell_type": "markdown",
      "metadata": {
        "id": "-Z17k342iXxw"
      },
      "source": [
        "Phase C — fine-tune the 3-D ResNet on GPU with early-stopping"
      ]
    },
    {
      "cell_type": "code",
      "execution_count": 23,
      "metadata": {
        "colab": {
          "base_uri": "https://localhost:8080/"
        },
        "id": "x7XFk1pNiRzt",
        "outputId": "cba050f8-29f6-40b5-b125-db9a32f39328"
      },
      "outputs": [
        {
          "output_type": "stream",
          "name": "stdout",
          "text": [
            "ResNet18_3D param count: 33.141315 M\n"
          ]
        }
      ],
      "source": [
        "import torch\n",
        "import torch.nn as nn\n",
        "\n",
        "# ---------------- Basic 3-D residual block ----------------\n",
        "class BasicBlock3D(nn.Module):\n",
        "    expansion = 1          # for compatibility with Bottleneck variants\n",
        "\n",
        "    def __init__(self, in_planes, planes, stride=1):\n",
        "        super().__init__()\n",
        "        self.conv1 = nn.Conv3d(in_planes, planes, kernel_size=3,\n",
        "                               stride=stride, padding=1, bias=False)\n",
        "        self.bn1   = nn.BatchNorm3d(planes)\n",
        "        self.conv2 = nn.Conv3d(planes, planes, kernel_size=3,\n",
        "                               stride=1, padding=1, bias=False)\n",
        "        self.bn2   = nn.BatchNorm3d(planes)\n",
        "\n",
        "        # shortcut ⤵ If spatial dims or channels change, add 1×1 conv3d\n",
        "        self.shortcut = nn.Sequential()\n",
        "        if stride != 1 or in_planes != planes:\n",
        "            self.shortcut = nn.Sequential(\n",
        "                nn.Conv3d(in_planes, planes,\n",
        "                          kernel_size=1, stride=stride, bias=False),\n",
        "                nn.BatchNorm3d(planes)\n",
        "            )\n",
        "\n",
        "    def forward(self, x):\n",
        "        out = torch.relu(self.bn1(self.conv1(x)))\n",
        "        out = self.bn2(self.conv2(out))\n",
        "        out += self.shortcut(x)\n",
        "        return torch.relu(out)\n",
        "\n",
        "# ---------------- ResNet3D builder ----------------\n",
        "class ResNet3D(nn.Module):\n",
        "    def __init__(self, block, num_blocks, num_classes=3):\n",
        "        super().__init__()\n",
        "        self.in_planes = 64\n",
        "\n",
        "        self.conv1 = nn.Conv3d(1, 64, kernel_size=3, stride=1,\n",
        "                               padding=1, bias=False)\n",
        "        self.bn1   = nn.BatchNorm3d(64)\n",
        "\n",
        "        # layers = (planes, n_blocks, stride for first block)\n",
        "        self.layer1 = self._make_layer(block,  64, num_blocks[0], stride=1)\n",
        "        self.layer2 = self._make_layer(block, 128, num_blocks[1], stride=2)\n",
        "        self.layer3 = self._make_layer(block, 256, num_blocks[2], stride=2)\n",
        "        self.layer4 = self._make_layer(block, 512, num_blocks[3], stride=2)\n",
        "\n",
        "        self.avgpool    = nn.AdaptiveAvgPool3d((1, 1, 1))\n",
        "        self.classifier = nn.Linear(512 * block.expansion, num_classes)\n",
        "\n",
        "    def _make_layer(self, block, planes, n_blocks, stride):\n",
        "        strides = [stride] + [1]*(n_blocks-1)\n",
        "        layers  = []\n",
        "        for s in strides:\n",
        "            layers.append(block(self.in_planes, planes, s))\n",
        "            self.in_planes = planes * block.expansion\n",
        "        return nn.Sequential(*layers)\n",
        "\n",
        "    def forward(self, x):\n",
        "        out = torch.relu(self.bn1(self.conv1(x)))\n",
        "        out = self.layer1(out)\n",
        "        out = self.layer2(out)\n",
        "        out = self.layer3(out)\n",
        "        out = self.layer4(out)\n",
        "        out = self.avgpool(out)\n",
        "        out = torch.flatten(out, 1)\n",
        "        return self.classifier(out)\n",
        "\n",
        "# ---------------- convenience factory ----------------\n",
        "def ResNet18_3D(num_classes=3):\n",
        "    # [2,2,2,2] blocks per layer → vanilla ResNet-18\n",
        "    return ResNet3D(BasicBlock3D, [2, 2, 2, 2], num_classes=num_classes)\n",
        "\n",
        "# ---------------- quick sanity check ----------------\n",
        "if __name__ == \"__main__\":\n",
        "    model = ResNet18_3D().cuda()          # comment out after first run\n",
        "    print(\"ResNet18_3D param count:\",\n",
        "          sum(p.numel() for p in model.parameters())/1e6, \"M\")\n"
      ]
    },
    {
      "cell_type": "code",
      "execution_count": 24,
      "metadata": {
        "colab": {
          "base_uri": "https://localhost:8080/"
        },
        "id": "NvMHUDYwie2m",
        "outputId": "0496f4a3-d3e0-4645-c50a-02ed8f5ebaa6"
      },
      "outputs": [
        {
          "output_type": "stream",
          "name": "stdout",
          "text": [
            "Froze conv1, bn1, layer1 ✅\n"
          ]
        }
      ],
      "source": [
        "for name, param in model.named_parameters():\n",
        "    if any(key in name for key in ['conv1', 'bn1', 'layer1']):\n",
        "        param.requires_grad = False\n",
        "print('Froze conv1, bn1, layer1 ✅')\n"
      ]
    },
    {
      "cell_type": "code",
      "source": [
        "for name, p in model.named_parameters():\n",
        "    if any(k in name for k in ['conv1', 'bn1', 'layer1']):\n",
        "        p.requires_grad = False\n",
        "    elif 'layer2' in name:\n",
        "        p.requires_grad = True\n",
        "    else:               # layer3, layer4, classifier already trainable\n",
        "        p.requires_grad = True\n"
      ],
      "metadata": {
        "id": "fQmXAXqu_aDU"
      },
      "execution_count": 25,
      "outputs": []
    },
    {
      "cell_type": "code",
      "execution_count": 26,
      "metadata": {
        "colab": {
          "base_uri": "https://localhost:8080/"
        },
        "id": "VsCa-omVihcS",
        "outputId": "b1bf3122-2b2a-4e9f-d1ce-550a7a77a140"
      },
      "outputs": [
        {
          "output_type": "stream",
          "name": "stderr",
          "text": [
            "/usr/local/lib/python3.11/dist-packages/torch/optim/lr_scheduler.py:62: UserWarning: The verbose parameter is deprecated. Please use get_last_lr() to access the learning rate.\n",
            "  warnings.warn(\n"
          ]
        }
      ],
      "source": [
        "\n",
        "criterion = nn.CrossEntropyLoss(\n",
        "    weight=torch.tensor([1.0, 3.0], device='cuda')   # 3× more weight on CN errors\n",
        ")\n",
        "optimizer = torch.optim.Adam(\n",
        "    filter(lambda p: p.requires_grad, model.parameters()),\n",
        "    lr=3e-6,                 # ↓ from 1e-5\n",
        "    weight_decay=1e-5\n",
        ")\n",
        "\n",
        "scheduler = torch.optim.lr_scheduler.ReduceLROnPlateau(\n",
        "    optimizer, mode='min', factor=0.3, patience=2, verbose=True\n",
        ")\n",
        "\n",
        "\n",
        "early_stop_patience = 5\n",
        "best_val_loss = float('inf')\n",
        "epochs_since_improve = 0\n",
        "NUM_EPOCHS = 10          # fine-tune window\n"
      ]
    },
    {
      "cell_type": "code",
      "execution_count": 34,
      "metadata": {
        "colab": {
          "base_uri": "https://localhost:8080/",
          "height": 655,
          "referenced_widgets": [
            "1f3ee7ca75da4196b1e38b5537a736d2",
            "4a6745f15cdb482b861683b09cd4358d",
            "f7ec817b582a4760aebc4ff5ebbfae9f",
            "e6ea821b9bbe4a1ea8750140d8ba33fa",
            "6f29b8dc2aa24f2486c60ae7944e9b0f",
            "133445c7e26a411fb36f476f8a10b8e1",
            "ac07381585104a75b99487f8fe0992bd",
            "3c27abb98b39436f8ac298ccedb42934",
            "3ec9a7bb44b8411cb0b5f3763663c8ff",
            "19eb35183b2347b0810633db68124293",
            "5e673d0e2bbf4491aa542be5b7391b89",
            "2ed9ef68eaa74b70b63aaff7291fc665",
            "cd860a5aba034918825b91bcb251b1f6",
            "e95c537737824887a0fa6944a1056c77",
            "a25d42ab072e4108ab764aa87265d0eb",
            "0c36c5f1279d461cbd87d96ccb9f5f8a",
            "d06291559b464fd882c18a1cbe911dd5",
            "b52af03e145f483da2cbc0f73e9fcaaa",
            "5f2349ebce2743f6955f56f81c4b6f67",
            "75ecf2eab7034a2e98327d09ce8b2e89",
            "4c51d833839840b5a616ac28e6853408",
            "6dac14b117ec4bcfa5c894ba302b756b",
            "9ec48cf2437040fab64f44923dc6b6fa",
            "84b9631342614881b226403149719303",
            "1d1be5bed426471b8ac1818569bc7a8d",
            "d18c9d82c4f74e40a37c3996df57ded7",
            "ffdcf1097062402f9c798e391564e965",
            "76dbfc4a46784e02991f74efeba8d85b",
            "a1666607dced412595662bde73283d07",
            "3d6a3250709f4c798aca35f613ab4510",
            "15df9ccb4f304329b60b1ca64aa4a488",
            "3ca9ea301d3d42dc829b5327fc194a8f",
            "5bc7487ea2dd4d8fbd4548cf55a2a452",
            "2f0dfec2e0dc4e7ba15485a6f439f152",
            "d3027528bc1e49adb80d3d15147d2d51",
            "a02171e5af384b238e2c1df6245313f0",
            "c79496d84d7a411ebcd0d0c724fbf511",
            "805e8568151d4f4099833fc4aa125111",
            "7ed021dd0c6048289ea4f0389f45ba82",
            "96f2b6020abc4f659cfa3884d001c93b",
            "077a7bf81a8b44fd9c470de023e8c1c0",
            "0d5d88c5ee9541a19c54e359d7748c0f",
            "d938848678734130865fff25991745e9",
            "d0d58dc94b784f07bcaafdf6fda4f8fb"
          ]
        },
        "id": "iPFXEwK6insP",
        "outputId": "84bae4e5-8628-4f3f-9b2d-0ccf7cdfd944"
      },
      "outputs": [
        {
          "output_type": "stream",
          "name": "stdout",
          "text": [
            "✅ head → Linear(in_features=512, out_features=2, bias=True)\n"
          ]
        },
        {
          "output_type": "stream",
          "name": "stderr",
          "text": [
            "/usr/local/lib/python3.11/dist-packages/torch/optim/lr_scheduler.py:62: UserWarning: The verbose parameter is deprecated. Please use get_last_lr() to access the learning rate.\n",
            "  warnings.warn(\n",
            "/tmp/ipython-input-34-1951205033.py:40: FutureWarning: `torch.cuda.amp.GradScaler(args...)` is deprecated. Please use `torch.amp.GradScaler('cuda', args...)` instead.\n",
            "  scaler = amp.GradScaler(enabled=True)\n"
          ]
        },
        {
          "output_type": "display_data",
          "data": {
            "text/plain": [
              "Epoch 1:   0%|          | 0/108 [00:00<?, ?it/s]"
            ],
            "application/vnd.jupyter.widget-view+json": {
              "version_major": 2,
              "version_minor": 0,
              "model_id": "1f3ee7ca75da4196b1e38b5537a736d2"
            }
          },
          "metadata": {}
        },
        {
          "output_type": "stream",
          "name": "stderr",
          "text": [
            "/tmp/ipython-input-34-1951205033.py:48: FutureWarning: `torch.cuda.amp.autocast(args...)` is deprecated. Please use `torch.amp.autocast('cuda', args...)` instead.\n",
            "  with amp.autocast(enabled=True):\n"
          ]
        },
        {
          "output_type": "stream",
          "name": "stdout",
          "text": [
            "  step 0/108  loss 0.848\n",
            "  step 40/108  loss 0.457\n",
            "  step 80/108  loss 0.643\n"
          ]
        },
        {
          "output_type": "stream",
          "name": "stderr",
          "text": [
            "/tmp/ipython-input-34-1951205033.py:59: FutureWarning: `torch.cuda.amp.autocast(args...)` is deprecated. Please use `torch.amp.autocast('cuda', args...)` instead.\n",
            "  with torch.no_grad(), amp.autocast(enabled=True):\n"
          ]
        },
        {
          "output_type": "stream",
          "name": "stdout",
          "text": [
            "Epoch 1: train 0.7007  val 0.6671  acc 70.00%  in 1.2 min\n",
            "  ↑ saved new best model\n"
          ]
        },
        {
          "output_type": "display_data",
          "data": {
            "text/plain": [
              "Epoch 2:   0%|          | 0/108 [00:00<?, ?it/s]"
            ],
            "application/vnd.jupyter.widget-view+json": {
              "version_major": 2,
              "version_minor": 0,
              "model_id": "2ed9ef68eaa74b70b63aaff7291fc665"
            }
          },
          "metadata": {}
        },
        {
          "output_type": "stream",
          "name": "stdout",
          "text": [
            "  step 0/108  loss 0.793\n",
            "  step 40/108  loss 0.543\n",
            "  step 80/108  loss 0.893\n",
            "Epoch 2: train 0.6857  val 0.7717  acc 30.00%  in 1.2 min\n"
          ]
        },
        {
          "output_type": "display_data",
          "data": {
            "text/plain": [
              "Epoch 3:   0%|          | 0/108 [00:00<?, ?it/s]"
            ],
            "application/vnd.jupyter.widget-view+json": {
              "version_major": 2,
              "version_minor": 0,
              "model_id": "9ec48cf2437040fab64f44923dc6b6fa"
            }
          },
          "metadata": {}
        },
        {
          "output_type": "stream",
          "name": "stdout",
          "text": [
            "  step 0/108  loss 0.618\n",
            "  step 40/108  loss 0.862\n",
            "  step 80/108  loss 0.636\n",
            "Epoch 3: train 0.6721  val 0.8377  acc 30.00%  in 1.2 min\n"
          ]
        },
        {
          "output_type": "display_data",
          "data": {
            "text/plain": [
              "Epoch 4:   0%|          | 0/108 [00:00<?, ?it/s]"
            ],
            "application/vnd.jupyter.widget-view+json": {
              "version_major": 2,
              "version_minor": 0,
              "model_id": "2f0dfec2e0dc4e7ba15485a6f439f152"
            }
          },
          "metadata": {}
        },
        {
          "output_type": "stream",
          "name": "stdout",
          "text": [
            "  step 0/108  loss 0.792\n",
            "  step 40/108  loss 0.678\n",
            "  step 80/108  loss 0.661\n",
            "Epoch 4: train 0.6842  val 0.9405  acc 30.00%  in 1.2 min\n",
            "Early stopping\n"
          ]
        }
      ],
      "source": [
        "# =================  BINARY FINE-TUNE BLOCK  =================\n",
        "# paste this single cell and run\n",
        "\n",
        "import torch, torch.nn as nn, torch.cuda.amp as amp, time, gc\n",
        "from tqdm.auto import tqdm\n",
        "\n",
        "# ── 1. replace 3-way head with 2-way head ───────────────────\n",
        "in_feat = model.classifier.in_features          # usually 512\n",
        "model.classifier = nn.Linear(in_feat, 2).cuda()\n",
        "print('✅ head →', model.classifier)\n",
        "\n",
        "# freeze conv1 / bn1 / layer1; keep the rest trainable\n",
        "for n, p in model.named_parameters():\n",
        "    p.requires_grad = not any(k in n for k in ['conv1', 'bn1', 'layer1'])\n",
        "\n",
        "# ── 2. criterion  (CN = index 0, AD_MCI = index 1) ──────────\n",
        "criterion = nn.CrossEntropyLoss(\n",
        "    weight=torch.tensor([3.0, 1.0], device='cuda'))\n",
        "\n",
        "# ── 3. loaders  (batch 2, workers 2) ─────────────────────────\n",
        "batch_size = 2\n",
        "train_dl = torch.utils.data.DataLoader(\n",
        "    train_ds, batch_size=batch_size, shuffle=True,\n",
        "    num_workers=2, pin_memory=True)\n",
        "val_dl   = torch.utils.data.DataLoader(\n",
        "    val_ds,   batch_size=batch_size, shuffle=False,\n",
        "    num_workers=2, pin_memory=True)\n",
        "\n",
        "# ── 4. optimiser & scheduler  (low LR) ──────────────────────\n",
        "optimizer = torch.optim.Adam(\n",
        "    filter(lambda p: p.requires_grad, model.parameters()),\n",
        "    lr=3e-6, weight_decay=1e-5)\n",
        "scheduler = torch.optim.lr_scheduler.ReduceLROnPlateau(\n",
        "    optimizer, mode='min', factor=0.3, patience=2, verbose=True)\n",
        "\n",
        "# ── 5. training loop  (5 epochs, early-stop 3) ──────────────\n",
        "NUM_EPOCHS = 5\n",
        "early_stop_patience = 3\n",
        "best_val_loss = float('inf'); epochs_since_improve = 0\n",
        "scaler = amp.GradScaler(enabled=True)\n",
        "\n",
        "for epoch in range(NUM_EPOCHS):\n",
        "    t0 = time.time()\n",
        "    model.train(); train_loss = 0.0\n",
        "    for i, (x, y) in enumerate(tqdm(train_dl, desc=f'Epoch {epoch+1}')):\n",
        "        x, y = x.cuda(), y.cuda()\n",
        "        optimizer.zero_grad(set_to_none=True)\n",
        "        with amp.autocast(enabled=True):\n",
        "            out  = model(x)\n",
        "            loss = criterion(out, y)\n",
        "        scaler.scale(loss).backward()\n",
        "        scaler.step(optimizer); scaler.update()\n",
        "        train_loss += loss.item()\n",
        "        if i % 40 == 0:\n",
        "            print(f'  step {i}/{len(train_dl)}  loss {loss.item():.3f}')\n",
        "\n",
        "    # ----- validation -----\n",
        "    model.eval(); val_loss = 0.0; correct = 0\n",
        "    with torch.no_grad(), amp.autocast(enabled=True):\n",
        "        for x, y in val_dl:\n",
        "            x, y = x.cuda(), y.cuda()\n",
        "            out  = model(x)\n",
        "            val_loss += criterion(out, y).item()\n",
        "            correct += (out.argmax(1) == y).sum().item()\n",
        "\n",
        "    avg_train = train_loss / len(train_dl)\n",
        "    avg_val   = val_loss   / len(val_dl)\n",
        "    val_acc   = 100 * correct / len(val_ds)\n",
        "    print(f'Epoch {epoch+1}: train {avg_train:.4f}  val {avg_val:.4f}  acc {val_acc:.2f}%  '\n",
        "          f'in {(time.time()-t0)/60:.1f} min')\n",
        "\n",
        "    scheduler.step(avg_val)\n",
        "    if avg_val < best_val_loss:\n",
        "        best_val_loss = avg_val\n",
        "        torch.save(model.state_dict(), 'best_resnet3d.pth')\n",
        "        epochs_since_improve = 0\n",
        "        print('  ↑ saved new best model')\n",
        "    else:\n",
        "        epochs_since_improve += 1\n",
        "    if epochs_since_improve >= early_stop_patience:\n",
        "        print('Early stopping'); break\n",
        "\n",
        "    torch.cuda.empty_cache(); gc.collect()\n"
      ]
    },
    {
      "cell_type": "code",
      "source": [
        "# =================  E V A L U A T I O N  =================\n",
        "import torch, torch.nn as nn, pandas as pd, numpy as np\n",
        "import matplotlib.pyplot as plt, seaborn as sns, json, os, sklearn.metrics as skm\n",
        "from datetime import datetime\n",
        "\n",
        "# --- 1. reload best binary model --------------------------------------------\n",
        "best_ckpt = 'best_resnet3d.pth'\n",
        "assert os.path.exists(best_ckpt), \"Best checkpoint not found\"\n",
        "\n",
        "model.eval()\n",
        "model.load_state_dict(torch.load(best_ckpt, map_location='cpu'))\n",
        "model.cuda()\n",
        "\n",
        "# sanity: model must output 2 logits\n",
        "assert model.classifier.out_features == 2, \"Checkpoint is not binary!\"\n",
        "\n",
        "# --- 2. build test DataLoader ------------------------------------------------\n",
        "test_ds = MRIDataset('test.csv', val_tf)     # same transforms as val\n",
        "test_dl = torch.utils.data.DataLoader(test_ds,\n",
        "                                      batch_size=2,\n",
        "                                      shuffle=False,\n",
        "                                      num_workers=2)\n",
        "\n",
        "# --- 3. run inference --------------------------------------------------------\n",
        "all_pred, all_true = [], []\n",
        "model.eval()\n",
        "with torch.no_grad():\n",
        "    for x, y in test_dl:\n",
        "        out = model(x.cuda())\n",
        "        all_pred.extend(out.argmax(1).cpu().tolist())\n",
        "        all_true.extend(y.tolist())\n",
        "\n",
        "# --- 4. metrics --------------------------------------------------------------\n",
        "acc  = skm.accuracy_score(all_true, all_pred)\n",
        "prec = skm.precision_score(all_true, all_pred, pos_label=1)\n",
        "rec  = skm.recall_score   (all_true, all_pred, pos_label=1)\n",
        "f1   = skm.f1_score       (all_true, all_pred, pos_label=1)\n",
        "print(f'🔎  Test  acc {acc:.3f}  prec {prec:.3f}  rec {rec:.3f}  F1 {f1:.3f}')\n",
        "\n",
        "# --- 5. confusion matrix plot -----------------------------------------------\n",
        "labels = ['CN', 'AD_MCI']\n",
        "cm = skm.confusion_matrix(all_true, all_pred)\n",
        "plt.figure(figsize=(4,4))\n",
        "sns.heatmap(cm, annot=True, fmt='d', cmap='Blues',\n",
        "            xticklabels=labels, yticklabels=labels)\n",
        "plt.xlabel('Predicted'); plt.ylabel('True'); plt.title('Confusion matrix')\n",
        "png_name  = f'conf_mat_{datetime.now():%Y%m%d_%H%M%S}.png'\n",
        "plt.savefig(png_name, dpi=150, bbox_inches='tight')\n",
        "plt.show()\n",
        "\n",
        "# --- 6. save metrics + figure to Drive --------------------------------------\n",
        "metrics_dict = {'accuracy':acc, 'precision':prec, 'recall':rec, 'f1':f1,\n",
        "                'cm': cm.tolist(), 'timestamp':datetime.now().isoformat()}\n",
        "json_name = png_name.replace('.png', '.json')\n",
        "with open(json_name, 'w') as f: json.dump(metrics_dict, f, indent=2)\n",
        "\n",
        "!mkdir -p /content/drive/MyDrive/ADNI_project/results\n",
        "!cp {png_name} {json_name} /content/drive/MyDrive/ADNI_project/results/\n",
        "\n",
        "print('✅  Saved', png_name, 'and', json_name, 'to Drive/ADNI_project/results/')\n"
      ],
      "metadata": {
        "colab": {
          "base_uri": "https://localhost:8080/",
          "height": 446
        },
        "id": "Ee6jOILg7Ih3",
        "outputId": "e5454bb3-9ec3-45fd-a0fb-68330ed37ecc"
      },
      "execution_count": 35,
      "outputs": [
        {
          "output_type": "stream",
          "name": "stdout",
          "text": [
            "🔎  Test  acc 0.742  prec 0.742  rec 1.000  F1 0.852\n"
          ]
        },
        {
          "output_type": "display_data",
          "data": {
            "text/plain": [
              "<Figure size 400x400 with 2 Axes>"
            ],
            "image/png": "[encoded data removed]"
          },
          "metadata": {}
        },
        {
          "output_type": "stream",
          "name": "stdout",
          "text": [
            "✅  Saved conf_mat_20250715_035132.png and conf_mat_20250715_035132.json to Drive/ADNI_project/results/\n"
          ]
        }
      ]
    },
    {
      "cell_type": "code",
      "source": [],
      "metadata": {
        "id": "L_6rVl4w80yA"
      },
      "execution_count": 35,
      "outputs": []
    },
    {
      "cell_type": "code",
      "source": [],
      "metadata": {
        "id": "iMjll9xKIX8H"
      },
      "execution_count": 35,
      "outputs": []
    }
  ],
  "metadata": {
    "accelerator": "GPU",
    "colab": {
      "gpuType": "T4",
      "machine_shape": "hm",
      "provenance": []
    },
    "kernelspec": {
      "display_name": "Python 3",
      "name": "python3"
    },
    "language_info": {
      "name": "python"
    },
    "widgets": {
      "application/vnd.jupyter.widget-state+json": {
        "1f3ee7ca75da4196b1e38b5537a736d2": {
          "model_module": "@jupyter-widgets/controls",
          "model_name": "HBoxModel",
          "model_module_version": "1.5.0",
          "state": {
            "_dom_classes": [],
            "_model_module": "@jupyter-widgets/controls",
            "_model_module_version": "1.5.0",
            "_model_name": "HBoxModel",
            "_view_count": null,
            "_view_module": "@jupyter-widgets/controls",
            "_view_module_version": "1.5.0",
            "_view_name": "HBoxView",
            "box_style": "",
            "children": [
              "IPY_MODEL_4a6745f15cdb482b861683b09cd4358d",
              "IPY_MODEL_f7ec817b582a4760aebc4ff5ebbfae9f",
              "IPY_MODEL_e6ea821b9bbe4a1ea8750140d8ba33fa"
            ],
            "layout": "IPY_MODEL_6f29b8dc2aa24f2486c60ae7944e9b0f"
          }
        },
        "4a6745f15cdb482b861683b09cd4358d": {
          "model_module": "@jupyter-widgets/controls",
          "model_name": "HTMLModel",
          "model_module_version": "1.5.0",
          "state": {
            "_dom_classes": [],
            "_model_module": "@jupyter-widgets/controls",
            "_model_module_version": "1.5.0",
            "_model_name": "HTMLModel",
            "_view_count": null,
            "_view_module": "@jupyter-widgets/controls",
            "_view_module_version": "1.5.0",
            "_view_name": "HTMLView",
            "description": "",
            "description_tooltip": null,
            "layout": "IPY_MODEL_133445c7e26a411fb36f476f8a10b8e1",
            "placeholder": "​",
            "style": "IPY_MODEL_ac07381585104a75b99487f8fe0992bd",
            "value": "Epoch 1: 100%"
          }
        },
        "f7ec817b582a4760aebc4ff5ebbfae9f": {
          "model_module": "@jupyter-widgets/controls",
          "model_name": "FloatProgressModel",
          "model_module_version": "1.5.0",
          "state": {
            "_dom_classes": [],
            "_model_module": "@jupyter-widgets/controls",
            "_model_module_version": "1.5.0",
            "_model_name": "FloatProgressModel",
            "_view_count": null,
            "_view_module": "@jupyter-widgets/controls",
            "_view_module_version": "1.5.0",
            "_view_name": "ProgressView",
            "bar_style": "success",
            "description": "",
            "description_tooltip": null,
            "layout": "IPY_MODEL_3c27abb98b39436f8ac298ccedb42934",
            "max": 108,
            "min": 0,
            "orientation": "horizontal",
            "style": "IPY_MODEL_3ec9a7bb44b8411cb0b5f3763663c8ff",
            "value": 108
          }
        },
        "e6ea821b9bbe4a1ea8750140d8ba33fa": {
          "model_module": "@jupyter-widgets/controls",
          "model_name": "HTMLModel",
          "model_module_version": "1.5.0",
          "state": {
            "_dom_classes": [],
            "_model_module": "@jupyter-widgets/controls",
            "_model_module_version": "1.5.0",
            "_model_name": "HTMLModel",
            "_view_count": null,
            "_view_module": "@jupyter-widgets/controls",
            "_view_module_version": "1.5.0",
            "_view_name": "HTMLView",
            "description": "",
            "description_tooltip": null,
            "layout": "IPY_MODEL_19eb35183b2347b0810633db68124293",
            "placeholder": "​",
            "style": "IPY_MODEL_5e673d0e2bbf4491aa542be5b7391b89",
            "value": " 108/108 [01:00&lt;00:00,  1.86it/s]"
          }
        },
        "6f29b8dc2aa24f2486c60ae7944e9b0f": {
          "model_module": "@jupyter-widgets/base",
          "model_name": "LayoutModel",
          "model_module_version": "1.2.0",
          "state": {
            "_model_module": "@jupyter-widgets/base",
            "_model_module_version": "1.2.0",
            "_model_name": "LayoutModel",
            "_view_count": null,
            "_view_module": "@jupyter-widgets/base",
            "_view_module_version": "1.2.0",
            "_view_name": "LayoutView",
            "align_content": null,
            "align_items": null,
            "align_self": null,
            "border": null,
            "bottom": null,
            "display": null,
            "flex": null,
            "flex_flow": null,
            "grid_area": null,
            "grid_auto_columns": null,
            "grid_auto_flow": null,
            "grid_auto_rows": null,
            "grid_column": null,
            "grid_gap": null,
            "grid_row": null,
            "grid_template_areas": null,
            "grid_template_columns": null,
            "grid_template_rows": null,
            "height": null,
            "justify_content": null,
            "justify_items": null,
            "left": null,
            "margin": null,
            "max_height": null,
            "max_width": null,
            "min_height": null,
            "min_width": null,
            "object_fit": null,
            "object_position": null,
            "order": null,
            "overflow": null,
            "overflow_x": null,
            "overflow_y": null,
            "padding": null,
            "right": null,
            "top": null,
            "visibility": null,
            "width": null
          }
        },
        "133445c7e26a411fb36f476f8a10b8e1": {
          "model_module": "@jupyter-widgets/base",
          "model_name": "LayoutModel",
          "model_module_version": "1.2.0",
          "state": {
            "_model_module": "@jupyter-widgets/base",
            "_model_module_version": "1.2.0",
            "_model_name": "LayoutModel",
            "_view_count": null,
            "_view_module": "@jupyter-widgets/base",
            "_view_module_version": "1.2.0",
            "_view_name": "LayoutView",
            "align_content": null,
            "align_items": null,
            "align_self": null,
            "border": null,
            "bottom": null,
            "display": null,
            "flex": null,
            "flex_flow": null,
            "grid_area": null,
            "grid_auto_columns": null,
            "grid_auto_flow": null,
            "grid_auto_rows": null,
            "grid_column": null,
            "grid_gap": null,
            "grid_row": null,
            "grid_template_areas": null,
            "grid_template_columns": null,
            "grid_template_rows": null,
            "height": null,
            "justify_content": null,
            "justify_items": null,
            "left": null,
            "margin": null,
            "max_height": null,
            "max_width": null,
            "min_height": null,
            "min_width": null,
            "object_fit": null,
            "object_position": null,
            "order": null,
            "overflow": null,
            "overflow_x": null,
            "overflow_y": null,
            "padding": null,
            "right": null,
            "top": null,
            "visibility": null,
            "width": null
          }
        },
        "ac07381585104a75b99487f8fe0992bd": {
          "model_module": "@jupyter-widgets/controls",
          "model_name": "DescriptionStyleModel",
          "model_module_version": "1.5.0",
          "state": {
            "_model_module": "@jupyter-widgets/controls",
            "_model_module_version": "1.5.0",
            "_model_name": "DescriptionStyleModel",
            "_view_count": null,
            "_view_module": "@jupyter-widgets/base",
            "_view_module_version": "1.2.0",
            "_view_name": "StyleView",
            "description_width": ""
          }
        },
        "3c27abb98b39436f8ac298ccedb42934": {
          "model_module": "@jupyter-widgets/base",
          "model_name": "LayoutModel",
          "model_module_version": "1.2.0",
          "state": {
            "_model_module": "@jupyter-widgets/base",
            "_model_module_version": "1.2.0",
            "_model_name": "LayoutModel",
            "_view_count": null,
            "_view_module": "@jupyter-widgets/base",
            "_view_module_version": "1.2.0",
            "_view_name": "LayoutView",
            "align_content": null,
            "align_items": null,
            "align_self": null,
            "border": null,
            "bottom": null,
            "display": null,
            "flex": null,
            "flex_flow": null,
            "grid_area": null,
            "grid_auto_columns": null,
            "grid_auto_flow": null,
            "grid_auto_rows": null,
            "grid_column": null,
            "grid_gap": null,
            "grid_row": null,
            "grid_template_areas": null,
            "grid_template_columns": null,
            "grid_template_rows": null,
            "height": null,
            "justify_content": null,
            "justify_items": null,
            "left": null,
            "margin": null,
            "max_height": null,
            "max_width": null,
            "min_height": null,
            "min_width": null,
            "object_fit": null,
            "object_position": null,
            "order": null,
            "overflow": null,
            "overflow_x": null,
            "overflow_y": null,
            "padding": null,
            "right": null,
            "top": null,
            "visibility": null,
            "width": null
          }
        },
        "3ec9a7bb44b8411cb0b5f3763663c8ff": {
          "model_module": "@jupyter-widgets/controls",
          "model_name": "ProgressStyleModel",
          "model_module_version": "1.5.0",
          "state": {
            "_model_module": "@jupyter-widgets/controls",
            "_model_module_version": "1.5.0",
            "_model_name": "ProgressStyleModel",
            "_view_count": null,
            "_view_module": "@jupyter-widgets/base",
            "_view_module_version": "1.2.0",
            "_view_name": "StyleView",
            "bar_color": null,
            "description_width": ""
          }
        },
        "19eb35183b2347b0810633db68124293": {
          "model_module": "@jupyter-widgets/base",
          "model_name": "LayoutModel",
          "model_module_version": "1.2.0",
          "state": {
            "_model_module": "@jupyter-widgets/base",
            "_model_module_version": "1.2.0",
            "_model_name": "LayoutModel",
            "_view_count": null,
            "_view_module": "@jupyter-widgets/base",
            "_view_module_version": "1.2.0",
            "_view_name": "LayoutView",
            "align_content": null,
            "align_items": null,
            "align_self": null,
            "border": null,
            "bottom": null,
            "display": null,
            "flex": null,
            "flex_flow": null,
            "grid_area": null,
            "grid_auto_columns": null,
            "grid_auto_flow": null,
            "grid_auto_rows": null,
            "grid_column": null,
            "grid_gap": null,
            "grid_row": null,
            "grid_template_areas": null,
            "grid_template_columns": null,
            "grid_template_rows": null,
            "height": null,
            "justify_content": null,
            "justify_items": null,
            "left": null,
            "margin": null,
            "max_height": null,
            "max_width": null,
            "min_height": null,
            "min_width": null,
            "object_fit": null,
            "object_position": null,
            "order": null,
            "overflow": null,
            "overflow_x": null,
            "overflow_y": null,
            "padding": null,
            "right": null,
            "top": null,
            "visibility": null,
            "width": null
          }
        },
        "5e673d0e2bbf4491aa542be5b7391b89": {
          "model_module": "@jupyter-widgets/controls",
          "model_name": "DescriptionStyleModel",
          "model_module_version": "1.5.0",
          "state": {
            "_model_module": "@jupyter-widgets/controls",
            "_model_module_version": "1.5.0",
            "_model_name": "DescriptionStyleModel",
            "_view_count": null,
            "_view_module": "@jupyter-widgets/base",
            "_view_module_version": "1.2.0",
            "_view_name": "StyleView",
            "description_width": ""
          }
        },
        "2ed9ef68eaa74b70b63aaff7291fc665": {
          "model_module": "@jupyter-widgets/controls",
          "model_name": "HBoxModel",
          "model_module_version": "1.5.0",
          "state": {
            "_dom_classes": [],
            "_model_module": "@jupyter-widgets/controls",
            "_model_module_version": "1.5.0",
            "_model_name": "HBoxModel",
            "_view_count": null,
            "_view_module": "@jupyter-widgets/controls",
            "_view_module_version": "1.5.0",
            "_view_name": "HBoxView",
            "box_style": "",
            "children": [
              "IPY_MODEL_cd860a5aba034918825b91bcb251b1f6",
              "IPY_MODEL_e95c537737824887a0fa6944a1056c77",
              "IPY_MODEL_a25d42ab072e4108ab764aa87265d0eb"
            ],
            "layout": "IPY_MODEL_0c36c5f1279d461cbd87d96ccb9f5f8a"
          }
        },
        "cd860a5aba034918825b91bcb251b1f6": {
          "model_module": "@jupyter-widgets/controls",
          "model_name": "HTMLModel",
          "model_module_version": "1.5.0",
          "state": {
            "_dom_classes": [],
            "_model_module": "@jupyter-widgets/controls",
            "_model_module_version": "1.5.0",
            "_model_name": "HTMLModel",
            "_view_count": null,
            "_view_module": "@jupyter-widgets/controls",
            "_view_module_version": "1.5.0",
            "_view_name": "HTMLView",
            "description": "",
            "description_tooltip": null,
            "layout": "IPY_MODEL_d06291559b464fd882c18a1cbe911dd5",
            "placeholder": "​",
            "style": "IPY_MODEL_b52af03e145f483da2cbc0f73e9fcaaa",
            "value": "Epoch 2: 100%"
          }
        },
        "e95c537737824887a0fa6944a1056c77": {
          "model_module": "@jupyter-widgets/controls",
          "model_name": "FloatProgressModel",
          "model_module_version": "1.5.0",
          "state": {
            "_dom_classes": [],
            "_model_module": "@jupyter-widgets/controls",
            "_model_module_version": "1.5.0",
            "_model_name": "FloatProgressModel",
            "_view_count": null,
            "_view_module": "@jupyter-widgets/controls",
            "_view_module_version": "1.5.0",
            "_view_name": "ProgressView",
            "bar_style": "success",
            "description": "",
            "description_tooltip": null,
            "layout": "IPY_MODEL_5f2349ebce2743f6955f56f81c4b6f67",
            "max": 108,
            "min": 0,
            "orientation": "horizontal",
            "style": "IPY_MODEL_75ecf2eab7034a2e98327d09ce8b2e89",
            "value": 108
          }
        },
        "a25d42ab072e4108ab764aa87265d0eb": {
          "model_module": "@jupyter-widgets/controls",
          "model_name": "HTMLModel",
          "model_module_version": "1.5.0",
          "state": {
            "_dom_classes": [],
            "_model_module": "@jupyter-widgets/controls",
            "_model_module_version": "1.5.0",
            "_model_name": "HTMLModel",
            "_view_count": null,
            "_view_module": "@jupyter-widgets/controls",
            "_view_module_version": "1.5.0",
            "_view_name": "HTMLView",
            "description": "",
            "description_tooltip": null,
            "layout": "IPY_MODEL_4c51d833839840b5a616ac28e6853408",
            "placeholder": "​",
            "style": "IPY_MODEL_6dac14b117ec4bcfa5c894ba302b756b",
            "value": " 108/108 [00:59&lt;00:00,  1.94it/s]"
          }
        },
        "0c36c5f1279d461cbd87d96ccb9f5f8a": {
          "model_module": "@jupyter-widgets/base",
          "model_name": "LayoutModel",
          "model_module_version": "1.2.0",
          "state": {
            "_model_module": "@jupyter-widgets/base",
            "_model_module_version": "1.2.0",
            "_model_name": "LayoutModel",
            "_view_count": null,
            "_view_module": "@jupyter-widgets/base",
            "_view_module_version": "1.2.0",
            "_view_name": "LayoutView",
            "align_content": null,
            "align_items": null,
            "align_self": null,
            "border": null,
            "bottom": null,
            "display": null,
            "flex": null,
            "flex_flow": null,
            "grid_area": null,
            "grid_auto_columns": null,
            "grid_auto_flow": null,
            "grid_auto_rows": null,
            "grid_column": null,
            "grid_gap": null,
            "grid_row": null,
            "grid_template_areas": null,
            "grid_template_columns": null,
            "grid_template_rows": null,
            "height": null,
            "justify_content": null,
            "justify_items": null,
            "left": null,
            "margin": null,
            "max_height": null,
            "max_width": null,
            "min_height": null,
            "min_width": null,
            "object_fit": null,
            "object_position": null,
            "order": null,
            "overflow": null,
            "overflow_x": null,
            "overflow_y": null,
            "padding": null,
            "right": null,
            "top": null,
            "visibility": null,
            "width": null
          }
        },
        "d06291559b464fd882c18a1cbe911dd5": {
          "model_module": "@jupyter-widgets/base",
          "model_name": "LayoutModel",
          "model_module_version": "1.2.0",
          "state": {
            "_model_module": "@jupyter-widgets/base",
            "_model_module_version": "1.2.0",
            "_model_name": "LayoutModel",
            "_view_count": null,
            "_view_module": "@jupyter-widgets/base",
            "_view_module_version": "1.2.0",
            "_view_name": "LayoutView",
            "align_content": null,
            "align_items": null,
            "align_self": null,
            "border": null,
            "bottom": null,
            "display": null,
            "flex": null,
            "flex_flow": null,
            "grid_area": null,
            "grid_auto_columns": null,
            "grid_auto_flow": null,
            "grid_auto_rows": null,
            "grid_column": null,
            "grid_gap": null,
            "grid_row": null,
            "grid_template_areas": null,
            "grid_template_columns": null,
            "grid_template_rows": null,
            "height": null,
            "justify_content": null,
            "justify_items": null,
            "left": null,
            "margin": null,
            "max_height": null,
            "max_width": null,
            "min_height": null,
            "min_width": null,
            "object_fit": null,
            "object_position": null,
            "order": null,
            "overflow": null,
            "overflow_x": null,
            "overflow_y": null,
            "padding": null,
            "right": null,
            "top": null,
            "visibility": null,
            "width": null
          }
        },
        "b52af03e145f483da2cbc0f73e9fcaaa": {
          "model_module": "@jupyter-widgets/controls",
          "model_name": "DescriptionStyleModel",
          "model_module_version": "1.5.0",
          "state": {
            "_model_module": "@jupyter-widgets/controls",
            "_model_module_version": "1.5.0",
            "_model_name": "DescriptionStyleModel",
            "_view_count": null,
            "_view_module": "@jupyter-widgets/base",
            "_view_module_version": "1.2.0",
            "_view_name": "StyleView",
            "description_width": ""
          }
        },
        "5f2349ebce2743f6955f56f81c4b6f67": {
          "model_module": "@jupyter-widgets/base",
          "model_name": "LayoutModel",
          "model_module_version": "1.2.0",
          "state": {
            "_model_module": "@jupyter-widgets/base",
            "_model_module_version": "1.2.0",
            "_model_name": "LayoutModel",
            "_view_count": null,
            "_view_module": "@jupyter-widgets/base",
            "_view_module_version": "1.2.0",
            "_view_name": "LayoutView",
            "align_content": null,
            "align_items": null,
            "align_self": null,
            "border": null,
            "bottom": null,
            "display": null,
            "flex": null,
            "flex_flow": null,
            "grid_area": null,
            "grid_auto_columns": null,
            "grid_auto_flow": null,
            "grid_auto_rows": null,
            "grid_column": null,
            "grid_gap": null,
            "grid_row": null,
            "grid_template_areas": null,
            "grid_template_columns": null,
            "grid_template_rows": null,
            "height": null,
            "justify_content": null,
            "justify_items": null,
            "left": null,
            "margin": null,
            "max_height": null,
            "max_width": null,
            "min_height": null,
            "min_width": null,
            "object_fit": null,
            "object_position": null,
            "order": null,
            "overflow": null,
            "overflow_x": null,
            "overflow_y": null,
            "padding": null,
            "right": null,
            "top": null,
            "visibility": null,
            "width": null
          }
        },
        "75ecf2eab7034a2e98327d09ce8b2e89": {
          "model_module": "@jupyter-widgets/controls",
          "model_name": "ProgressStyleModel",
          "model_module_version": "1.5.0",
          "state": {
            "_model_module": "@jupyter-widgets/controls",
            "_model_module_version": "1.5.0",
            "_model_name": "ProgressStyleModel",
            "_view_count": null,
            "_view_module": "@jupyter-widgets/base",
            "_view_module_version": "1.2.0",
            "_view_name": "StyleView",
            "bar_color": null,
            "description_width": ""
          }
        },
        "4c51d833839840b5a616ac28e6853408": {
          "model_module": "@jupyter-widgets/base",
          "model_name": "LayoutModel",
          "model_module_version": "1.2.0",
          "state": {
            "_model_module": "@jupyter-widgets/base",
            "_model_module_version": "1.2.0",
            "_model_name": "LayoutModel",
            "_view_count": null,
            "_view_module": "@jupyter-widgets/base",
            "_view_module_version": "1.2.0",
            "_view_name": "LayoutView",
            "align_content": null,
            "align_items": null,
            "align_self": null,
            "border": null,
            "bottom": null,
            "display": null,
            "flex": null,
            "flex_flow": null,
            "grid_area": null,
            "grid_auto_columns": null,
            "grid_auto_flow": null,
            "grid_auto_rows": null,
            "grid_column": null,
            "grid_gap": null,
            "grid_row": null,
            "grid_template_areas": null,
            "grid_template_columns": null,
            "grid_template_rows": null,
            "height": null,
            "justify_content": null,
            "justify_items": null,
            "left": null,
            "margin": null,
            "max_height": null,
            "max_width": null,
            "min_height": null,
            "min_width": null,
            "object_fit": null,
            "object_position": null,
            "order": null,
            "overflow": null,
            "overflow_x": null,
            "overflow_y": null,
            "padding": null,
            "right": null,
            "top": null,
            "visibility": null,
            "width": null
          }
        },
        "6dac14b117ec4bcfa5c894ba302b756b": {
          "model_module": "@jupyter-widgets/controls",
          "model_name": "DescriptionStyleModel",
          "model_module_version": "1.5.0",
          "state": {
            "_model_module": "@jupyter-widgets/controls",
            "_model_module_version": "1.5.0",
            "_model_name": "DescriptionStyleModel",
            "_view_count": null,
            "_view_module": "@jupyter-widgets/base",
            "_view_module_version": "1.2.0",
            "_view_name": "StyleView",
            "description_width": ""
          }
        },
        "9ec48cf2437040fab64f44923dc6b6fa": {
          "model_module": "@jupyter-widgets/controls",
          "model_name": "HBoxModel",
          "model_module_version": "1.5.0",
          "state": {
            "_dom_classes": [],
            "_model_module": "@jupyter-widgets/controls",
            "_model_module_version": "1.5.0",
            "_model_name": "HBoxModel",
            "_view_count": null,
            "_view_module": "@jupyter-widgets/controls",
            "_view_module_version": "1.5.0",
            "_view_name": "HBoxView",
            "box_style": "",
            "children": [
              "IPY_MODEL_84b9631342614881b226403149719303",
              "IPY_MODEL_1d1be5bed426471b8ac1818569bc7a8d",
              "IPY_MODEL_d18c9d82c4f74e40a37c3996df57ded7"
            ],
            "layout": "IPY_MODEL_ffdcf1097062402f9c798e391564e965"
          }
        },
        "84b9631342614881b226403149719303": {
          "model_module": "@jupyter-widgets/controls",
          "model_name": "HTMLModel",
          "model_module_version": "1.5.0",
          "state": {
            "_dom_classes": [],
            "_model_module": "@jupyter-widgets/controls",
            "_model_module_version": "1.5.0",
            "_model_name": "HTMLModel",
            "_view_count": null,
            "_view_module": "@jupyter-widgets/controls",
            "_view_module_version": "1.5.0",
            "_view_name": "HTMLView",
            "description": "",
            "description_tooltip": null,
            "layout": "IPY_MODEL_76dbfc4a46784e02991f74efeba8d85b",
            "placeholder": "​",
            "style": "IPY_MODEL_a1666607dced412595662bde73283d07",
            "value": "Epoch 3: 100%"
          }
        },
        "1d1be5bed426471b8ac1818569bc7a8d": {
          "model_module": "@jupyter-widgets/controls",
          "model_name": "FloatProgressModel",
          "model_module_version": "1.5.0",
          "state": {
            "_dom_classes": [],
            "_model_module": "@jupyter-widgets/controls",
            "_model_module_version": "1.5.0",
            "_model_name": "FloatProgressModel",
            "_view_count": null,
            "_view_module": "@jupyter-widgets/controls",
            "_view_module_version": "1.5.0",
            "_view_name": "ProgressView",
            "bar_style": "success",
            "description": "",
            "description_tooltip": null,
            "layout": "IPY_MODEL_3d6a3250709f4c798aca35f613ab4510",
            "max": 108,
            "min": 0,
            "orientation": "horizontal",
            "style": "IPY_MODEL_15df9ccb4f304329b60b1ca64aa4a488",
            "value": 108
          }
        },
        "d18c9d82c4f74e40a37c3996df57ded7": {
          "model_module": "@jupyter-widgets/controls",
          "model_name": "HTMLModel",
          "model_module_version": "1.5.0",
          "state": {
            "_dom_classes": [],
            "_model_module": "@jupyter-widgets/controls",
            "_model_module_version": "1.5.0",
            "_model_name": "HTMLModel",
            "_view_count": null,
            "_view_module": "@jupyter-widgets/controls",
            "_view_module_version": "1.5.0",
            "_view_name": "HTMLView",
            "description": "",
            "description_tooltip": null,
            "layout": "IPY_MODEL_3ca9ea301d3d42dc829b5327fc194a8f",
            "placeholder": "​",
            "style": "IPY_MODEL_5bc7487ea2dd4d8fbd4548cf55a2a452",
            "value": " 108/108 [01:00&lt;00:00,  1.74it/s]"
          }
        },
        "ffdcf1097062402f9c798e391564e965": {
          "model_module": "@jupyter-widgets/base",
          "model_name": "LayoutModel",
          "model_module_version": "1.2.0",
          "state": {
            "_model_module": "@jupyter-widgets/base",
            "_model_module_version": "1.2.0",
            "_model_name": "LayoutModel",
            "_view_count": null,
            "_view_module": "@jupyter-widgets/base",
            "_view_module_version": "1.2.0",
            "_view_name": "LayoutView",
            "align_content": null,
            "align_items": null,
            "align_self": null,
            "border": null,
            "bottom": null,
            "display": null,
            "flex": null,
            "flex_flow": null,
            "grid_area": null,
            "grid_auto_columns": null,
            "grid_auto_flow": null,
            "grid_auto_rows": null,
            "grid_column": null,
            "grid_gap": null,
            "grid_row": null,
            "grid_template_areas": null,
            "grid_template_columns": null,
            "grid_template_rows": null,
            "height": null,
            "justify_content": null,
            "justify_items": null,
            "left": null,
            "margin": null,
            "max_height": null,
            "max_width": null,
            "min_height": null,
            "min_width": null,
            "object_fit": null,
            "object_position": null,
            "order": null,
            "overflow": null,
            "overflow_x": null,
            "overflow_y": null,
            "padding": null,
            "right": null,
            "top": null,
            "visibility": null,
            "width": null
          }
        },
        "76dbfc4a46784e02991f74efeba8d85b": {
          "model_module": "@jupyter-widgets/base",
          "model_name": "LayoutModel",
          "model_module_version": "1.2.0",
          "state": {
            "_model_module": "@jupyter-widgets/base",
            "_model_module_version": "1.2.0",
            "_model_name": "LayoutModel",
            "_view_count": null,
            "_view_module": "@jupyter-widgets/base",
            "_view_module_version": "1.2.0",
            "_view_name": "LayoutView",
            "align_content": null,
            "align_items": null,
            "align_self": null,
            "border": null,
            "bottom": null,
            "display": null,
            "flex": null,
            "flex_flow": null,
            "grid_area": null,
            "grid_auto_columns": null,
            "grid_auto_flow": null,
            "grid_auto_rows": null,
            "grid_column": null,
            "grid_gap": null,
            "grid_row": null,
            "grid_template_areas": null,
            "grid_template_columns": null,
            "grid_template_rows": null,
            "height": null,
            "justify_content": null,
            "justify_items": null,
            "left": null,
            "margin": null,
            "max_height": null,
            "max_width": null,
            "min_height": null,
            "min_width": null,
            "object_fit": null,
            "object_position": null,
            "order": null,
            "overflow": null,
            "overflow_x": null,
            "overflow_y": null,
            "padding": null,
            "right": null,
            "top": null,
            "visibility": null,
            "width": null
          }
        },
        "a1666607dced412595662bde73283d07": {
          "model_module": "@jupyter-widgets/controls",
          "model_name": "DescriptionStyleModel",
          "model_module_version": "1.5.0",
          "state": {
            "_model_module": "@jupyter-widgets/controls",
            "_model_module_version": "1.5.0",
            "_model_name": "DescriptionStyleModel",
            "_view_count": null,
            "_view_module": "@jupyter-widgets/base",
            "_view_module_version": "1.2.0",
            "_view_name": "StyleView",
            "description_width": ""
          }
        },
        "3d6a3250709f4c798aca35f613ab4510": {
          "model_module": "@jupyter-widgets/base",
          "model_name": "LayoutModel",
          "model_module_version": "1.2.0",
          "state": {
            "_model_module": "@jupyter-widgets/base",
            "_model_module_version": "1.2.0",
            "_model_name": "LayoutModel",
            "_view_count": null,
            "_view_module": "@jupyter-widgets/base",
            "_view_module_version": "1.2.0",
            "_view_name": "LayoutView",
            "align_content": null,
            "align_items": null,
            "align_self": null,
            "border": null,
            "bottom": null,
            "display": null,
            "flex": null,
            "flex_flow": null,
            "grid_area": null,
            "grid_auto_columns": null,
            "grid_auto_flow": null,
            "grid_auto_rows": null,
            "grid_column": null,
            "grid_gap": null,
            "grid_row": null,
            "grid_template_areas": null,
            "grid_template_columns": null,
            "grid_template_rows": null,
            "height": null,
            "justify_content": null,
            "justify_items": null,
            "left": null,
            "margin": null,
            "max_height": null,
            "max_width": null,
            "min_height": null,
            "min_width": null,
            "object_fit": null,
            "object_position": null,
            "order": null,
            "overflow": null,
            "overflow_x": null,
            "overflow_y": null,
            "padding": null,
            "right": null,
            "top": null,
            "visibility": null,
            "width": null
          }
        },
        "15df9ccb4f304329b60b1ca64aa4a488": {
          "model_module": "@jupyter-widgets/controls",
          "model_name": "ProgressStyleModel",
          "model_module_version": "1.5.0",
          "state": {
            "_model_module": "@jupyter-widgets/controls",
            "_model_module_version": "1.5.0",
            "_model_name": "ProgressStyleModel",
            "_view_count": null,
            "_view_module": "@jupyter-widgets/base",
            "_view_module_version": "1.2.0",
            "_view_name": "StyleView",
            "bar_color": null,
            "description_width": ""
          }
        },
        "3ca9ea301d3d42dc829b5327fc194a8f": {
          "model_module": "@jupyter-widgets/base",
          "model_name": "LayoutModel",
          "model_module_version": "1.2.0",
          "state": {
            "_model_module": "@jupyter-widgets/base",
            "_model_module_version": "1.2.0",
            "_model_name": "LayoutModel",
            "_view_count": null,
            "_view_module": "@jupyter-widgets/base",
            "_view_module_version": "1.2.0",
            "_view_name": "LayoutView",
            "align_content": null,
            "align_items": null,
            "align_self": null,
            "border": null,
            "bottom": null,
            "display": null,
            "flex": null,
            "flex_flow": null,
            "grid_area": null,
            "grid_auto_columns": null,
            "grid_auto_flow": null,
            "grid_auto_rows": null,
            "grid_column": null,
            "grid_gap": null,
            "grid_row": null,
            "grid_template_areas": null,
            "grid_template_columns": null,
            "grid_template_rows": null,
            "height": null,
            "justify_content": null,
            "justify_items": null,
            "left": null,
            "margin": null,
            "max_height": null,
            "max_width": null,
            "min_height": null,
            "min_width": null,
            "object_fit": null,
            "object_position": null,
            "order": null,
            "overflow": null,
            "overflow_x": null,
            "overflow_y": null,
            "padding": null,
            "right": null,
            "top": null,
            "visibility": null,
            "width": null
          }
        },
        "5bc7487ea2dd4d8fbd4548cf55a2a452": {
          "model_module": "@jupyter-widgets/controls",
          "model_name": "DescriptionStyleModel",
          "model_module_version": "1.5.0",
          "state": {
            "_model_module": "@jupyter-widgets/controls",
            "_model_module_version": "1.5.0",
            "_model_name": "DescriptionStyleModel",
            "_view_count": null,
            "_view_module": "@jupyter-widgets/base",
            "_view_module_version": "1.2.0",
            "_view_name": "StyleView",
            "description_width": ""
          }
        },
        "2f0dfec2e0dc4e7ba15485a6f439f152": {
          "model_module": "@jupyter-widgets/controls",
          "model_name": "HBoxModel",
          "model_module_version": "1.5.0",
          "state": {
            "_dom_classes": [],
            "_model_module": "@jupyter-widgets/controls",
            "_model_module_version": "1.5.0",
            "_model_name": "HBoxModel",
            "_view_count": null,
            "_view_module": "@jupyter-widgets/controls",
            "_view_module_version": "1.5.0",
            "_view_name": "HBoxView",
            "box_style": "",
            "children": [
              "IPY_MODEL_d3027528bc1e49adb80d3d15147d2d51",
              "IPY_MODEL_a02171e5af384b238e2c1df6245313f0",
              "IPY_MODEL_c79496d84d7a411ebcd0d0c724fbf511"
            ],
            "layout": "IPY_MODEL_805e8568151d4f4099833fc4aa125111"
          }
        },
        "d3027528bc1e49adb80d3d15147d2d51": {
          "model_module": "@jupyter-widgets/controls",
          "model_name": "HTMLModel",
          "model_module_version": "1.5.0",
          "state": {
            "_dom_classes": [],
            "_model_module": "@jupyter-widgets/controls",
            "_model_module_version": "1.5.0",
            "_model_name": "HTMLModel",
            "_view_count": null,
            "_view_module": "@jupyter-widgets/controls",
            "_view_module_version": "1.5.0",
            "_view_name": "HTMLView",
            "description": "",
            "description_tooltip": null,
            "layout": "IPY_MODEL_7ed021dd0c6048289ea4f0389f45ba82",
            "placeholder": "​",
            "style": "IPY_MODEL_96f2b6020abc4f659cfa3884d001c93b",
            "value": "Epoch 4: 100%"
          }
        },
        "a02171e5af384b238e2c1df6245313f0": {
          "model_module": "@jupyter-widgets/controls",
          "model_name": "FloatProgressModel",
          "model_module_version": "1.5.0",
          "state": {
            "_dom_classes": [],
            "_model_module": "@jupyter-widgets/controls",
            "_model_module_version": "1.5.0",
            "_model_name": "FloatProgressModel",
            "_view_count": null,
            "_view_module": "@jupyter-widgets/controls",
            "_view_module_version": "1.5.0",
            "_view_name": "ProgressView",
            "bar_style": "success",
            "description": "",
            "description_tooltip": null,
            "layout": "IPY_MODEL_077a7bf81a8b44fd9c470de023e8c1c0",
            "max": 108,
            "min": 0,
            "orientation": "horizontal",
            "style": "IPY_MODEL_0d5d88c5ee9541a19c54e359d7748c0f",
            "value": 108
          }
        },
        "c79496d84d7a411ebcd0d0c724fbf511": {
          "model_module": "@jupyter-widgets/controls",
          "model_name": "HTMLModel",
          "model_module_version": "1.5.0",
          "state": {
            "_dom_classes": [],
            "_model_module": "@jupyter-widgets/controls",
            "_model_module_version": "1.5.0",
            "_model_name": "HTMLModel",
            "_view_count": null,
            "_view_module": "@jupyter-widgets/controls",
            "_view_module_version": "1.5.0",
            "_view_name": "HTMLView",
            "description": "",
            "description_tooltip": null,
            "layout": "IPY_MODEL_d938848678734130865fff25991745e9",
            "placeholder": "​",
            "style": "IPY_MODEL_d0d58dc94b784f07bcaafdf6fda4f8fb",
            "value": " 108/108 [01:00&lt;00:00,  1.90it/s]"
          }
        },
        "805e8568151d4f4099833fc4aa125111": {
          "model_module": "@jupyter-widgets/base",
          "model_name": "LayoutModel",
          "model_module_version": "1.2.0",
          "state": {
            "_model_module": "@jupyter-widgets/base",
            "_model_module_version": "1.2.0",
            "_model_name": "LayoutModel",
            "_view_count": null,
            "_view_module": "@jupyter-widgets/base",
            "_view_module_version": "1.2.0",
            "_view_name": "LayoutView",
            "align_content": null,
            "align_items": null,
            "align_self": null,
            "border": null,
            "bottom": null,
            "display": null,
            "flex": null,
            "flex_flow": null,
            "grid_area": null,
            "grid_auto_columns": null,
            "grid_auto_flow": null,
            "grid_auto_rows": null,
            "grid_column": null,
            "grid_gap": null,
            "grid_row": null,
            "grid_template_areas": null,
            "grid_template_columns": null,
            "grid_template_rows": null,
            "height": null,
            "justify_content": null,
            "justify_items": null,
            "left": null,
            "margin": null,
            "max_height": null,
            "max_width": null,
            "min_height": null,
            "min_width": null,
            "object_fit": null,
            "object_position": null,
            "order": null,
            "overflow": null,
            "overflow_x": null,
            "overflow_y": null,
            "padding": null,
            "right": null,
            "top": null,
            "visibility": null,
            "width": null
          }
        },
        "7ed021dd0c6048289ea4f0389f45ba82": {
          "model_module": "@jupyter-widgets/base",
          "model_name": "LayoutModel",
          "model_module_version": "1.2.0",
          "state": {
            "_model_module": "@jupyter-widgets/base",
            "_model_module_version": "1.2.0",
            "_model_name": "LayoutModel",
            "_view_count": null,
            "_view_module": "@jupyter-widgets/base",
            "_view_module_version": "1.2.0",
            "_view_name": "LayoutView",
            "align_content": null,
            "align_items": null,
            "align_self": null,
            "border": null,
            "bottom": null,
            "display": null,
            "flex": null,
            "flex_flow": null,
            "grid_area": null,
            "grid_auto_columns": null,
            "grid_auto_flow": null,
            "grid_auto_rows": null,
            "grid_column": null,
            "grid_gap": null,
            "grid_row": null,
            "grid_template_areas": null,
            "grid_template_columns": null,
            "grid_template_rows": null,
            "height": null,
            "justify_content": null,
            "justify_items": null,
            "left": null,
            "margin": null,
            "max_height": null,
            "max_width": null,
            "min_height": null,
            "min_width": null,
            "object_fit": null,
            "object_position": null,
            "order": null,
            "overflow": null,
            "overflow_x": null,
            "overflow_y": null,
            "padding": null,
            "right": null,
            "top": null,
            "visibility": null,
            "width": null
          }
        },
        "96f2b6020abc4f659cfa3884d001c93b": {
          "model_module": "@jupyter-widgets/controls",
          "model_name": "DescriptionStyleModel",
          "model_module_version": "1.5.0",
          "state": {
            "_model_module": "@jupyter-widgets/controls",
            "_model_module_version": "1.5.0",
            "_model_name": "DescriptionStyleModel",
            "_view_count": null,
            "_view_module": "@jupyter-widgets/base",
            "_view_module_version": "1.2.0",
            "_view_name": "StyleView",
            "description_width": ""
          }
        },
        "077a7bf81a8b44fd9c470de023e8c1c0": {
          "model_module": "@jupyter-widgets/base",
          "model_name": "LayoutModel",
          "model_module_version": "1.2.0",
          "state": {
            "_model_module": "@jupyter-widgets/base",
            "_model_module_version": "1.2.0",
            "_model_name": "LayoutModel",
            "_view_count": null,
            "_view_module": "@jupyter-widgets/base",
            "_view_module_version": "1.2.0",
            "_view_name": "LayoutView",
            "align_content": null,
            "align_items": null,
            "align_self": null,
            "border": null,
            "bottom": null,
            "display": null,
            "flex": null,
            "flex_flow": null,
            "grid_area": null,
            "grid_auto_columns": null,
            "grid_auto_flow": null,
            "grid_auto_rows": null,
            "grid_column": null,
            "grid_gap": null,
            "grid_row": null,
            "grid_template_areas": null,
            "grid_template_columns": null,
            "grid_template_rows": null,
            "height": null,
            "justify_content": null,
            "justify_items": null,
            "left": null,
            "margin": null,
            "max_height": null,
            "max_width": null,
            "min_height": null,
            "min_width": null,
            "object_fit": null,
            "object_position": null,
            "order": null,
            "overflow": null,
            "overflow_x": null,
            "overflow_y": null,
            "padding": null,
            "right": null,
            "top": null,
            "visibility": null,
            "width": null
          }
        },
        "0d5d88c5ee9541a19c54e359d7748c0f": {
          "model_module": "@jupyter-widgets/controls",
          "model_name": "ProgressStyleModel",
          "model_module_version": "1.5.0",
          "state": {
            "_model_module": "@jupyter-widgets/controls",
            "_model_module_version": "1.5.0",
            "_model_name": "ProgressStyleModel",
            "_view_count": null,
            "_view_module": "@jupyter-widgets/base",
            "_view_module_version": "1.2.0",
            "_view_name": "StyleView",
            "bar_color": null,
            "description_width": ""
          }
        },
        "d938848678734130865fff25991745e9": {
          "model_module": "@jupyter-widgets/base",
          "model_name": "LayoutModel",
          "model_module_version": "1.2.0",
          "state": {
            "_model_module": "@jupyter-widgets/base",
            "_model_module_version": "1.2.0",
            "_model_name": "LayoutModel",
            "_view_count": null,
            "_view_module": "@jupyter-widgets/base",
            "_view_module_version": "1.2.0",
            "_view_name": "LayoutView",
            "align_content": null,
            "align_items": null,
            "align_self": null,
            "border": null,
            "bottom": null,
            "display": null,
            "flex": null,
            "flex_flow": null,
            "grid_area": null,
            "grid_auto_columns": null,
            "grid_auto_flow": null,
            "grid_auto_rows": null,
            "grid_column": null,
            "grid_gap": null,
            "grid_row": null,
            "grid_template_areas": null,
            "grid_template_columns": null,
            "grid_template_rows": null,
            "height": null,
            "justify_content": null,
            "justify_items": null,
            "left": null,
            "margin": null,
            "max_height": null,
            "max_width": null,
            "min_height": null,
            "min_width": null,
            "object_fit": null,
            "object_position": null,
            "order": null,
            "overflow": null,
            "overflow_x": null,
            "overflow_y": null,
            "padding": null,
            "right": null,
            "top": null,
            "visibility": null,
            "width": null
          }
        },
        "d0d58dc94b784f07bcaafdf6fda4f8fb": {
          "model_module": "@jupyter-widgets/controls",
          "model_name": "DescriptionStyleModel",
          "model_module_version": "1.5.0",
          "state": {
            "_model_module": "@jupyter-widgets/controls",
            "_model_module_version": "1.5.0",
            "_model_name": "DescriptionStyleModel",
            "_view_count": null,
            "_view_module": "@jupyter-widgets/base",
            "_view_module_version": "1.2.0",
            "_view_name": "StyleView",
            "description_width": ""
          }
        }
      }
    }
  },
  "nbformat": 4,
  "nbformat_minor": 0
}