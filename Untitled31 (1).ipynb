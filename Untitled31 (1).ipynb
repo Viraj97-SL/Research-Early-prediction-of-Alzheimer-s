{
  "nbformat": 4,
  "nbformat_minor": 0,
  "metadata": {
    "colab": {
      "provenance": [],
      "machine_shape": "hm",
      "gpuType": "T4"
    },
    "kernelspec": {
      "name": "python3",
      "display_name": "Python 3"
    },
    "language_info": {
      "name": "python"
    },
    "accelerator": "GPU"
  },
  "cells": [
    {
      "cell_type": "markdown",
      "source": [
        "Data Import & Verification"
      ],
      "metadata": {
        "id": "-ZC7o0Kv35vt"
      }
    },
    {
      "cell_type": "code",
      "execution_count": 14,
      "metadata": {
        "colab": {
          "base_uri": "https://localhost:8080/"
        },
        "id": "2mOyWD_PuGZE",
        "outputId": "162e7946-9404-439f-e8c6-a886c6852afe"
      },
      "outputs": [
        {
          "output_type": "stream",
          "name": "stdout",
          "text": [
            "GPU: Tesla T4\n"
          ]
        }
      ],
      "source": [
        "import torch, platform, os\n",
        "assert torch.cuda.is_available(), \"GPU not detected—check runtime type.\"\n",
        "print(\"GPU:\", torch.cuda.get_device_name(0))\n"
      ]
    },
    {
      "cell_type": "code",
      "source": [
        "from google.colab import drive\n",
        "drive.mount('/content/drive')\n"
      ],
      "metadata": {
        "colab": {
          "base_uri": "https://localhost:8080/"
        },
        "id": "CoHX0nnBxU-D",
        "outputId": "c763441d-d5da-4ef5-cdb3-347fdead8661"
      },
      "execution_count": 15,
      "outputs": [
        {
          "output_type": "stream",
          "name": "stdout",
          "text": [
            "Drive already mounted at /content/drive; to attempt to forcibly remount, call drive.mount(\"/content/drive\", force_remount=True).\n"
          ]
        }
      ]
    },
    {
      "cell_type": "code",
      "source": [
        "!tar -xf /content/drive/MyDrive/ADNI_project/data/adni_bids_raw.tar.gz -C /content\n"
      ],
      "metadata": {
        "id": "dnOaZP-yxf5L"
      },
      "execution_count": 3,
      "outputs": []
    },
    {
      "cell_type": "code",
      "source": [
        "# 2. Extract the BIDS archive into /content/adni_bids_raw\n",
        "!mkdir -p /content/adni_bids_raw\n",
        "!tar -xf /content/drive/MyDrive/ADNI_project/data/adni_bids_raw.tar.gz \\\n",
        "    -C /content/adni_bids_raw\n"
      ],
      "metadata": {
        "id": "w4Tf722-yyl8"
      },
      "execution_count": 16,
      "outputs": []
    },
    {
      "cell_type": "code",
      "source": [
        "# 3. Locate all T1w NIfTI files (case‐insensitive) and save to a list\n",
        "%%bash\n",
        "!find /content/adni_bids_raw -type f -iname \"*T1w.nii.gz\" > /content/t1w_list.txt\n",
        "\n",
        "# 4. Count them\n",
        "T1W_COUNT=$(wc -l < /content/t1w_list.txt)\n",
        "echo \"Found ${T1W_COUNT} T1w.nii.gz files\"\n"
      ],
      "metadata": {
        "colab": {
          "base_uri": "https://localhost:8080/"
        },
        "id": "nOPzg0NL5K5X",
        "outputId": "3b8bae1d-a1e8-44fb-d471-0416cc1ab20b"
      },
      "execution_count": 6,
      "outputs": [
        {
          "output_type": "stream",
          "name": "stdout",
          "text": [
            "Found 0 T1w.nii.gz files\n"
          ]
        },
        {
          "output_type": "stream",
          "name": "stderr",
          "text": [
            "bash: line 1: !find: command not found\n"
          ]
        }
      ]
    },
    {
      "cell_type": "code",
      "source": [
        "#re-trying to count the number of fies\n",
        "import os\n",
        "\n",
        "print(\"Contents of /content:\")\n",
        "print(os.listdir('/content'))\n"
      ],
      "metadata": {
        "colab": {
          "base_uri": "https://localhost:8080/"
        },
        "id": "iNhbz-n37ujS",
        "outputId": "30d50b05-f992-4cfd-a391-c00e6bc5492e"
      },
      "execution_count": 17,
      "outputs": [
        {
          "output_type": "stream",
          "name": "stdout",
          "text": [
            "Contents of /content:\n",
            "['.config', 'drive', 't1w_list.txt', 'adni_bids_raw', 'ADNI_BIDS_raw', 'sample_data']\n"
          ]
        }
      ]
    },
    {
      "cell_type": "code",
      "source": [
        "%%bash\n",
        "BIDS_DIR=/content/adni_bids_raw\n",
        "\n",
        "echo \"Looking under $BIDS_DIR …\"\n",
        "\n",
        "# 1. List first few entries so we know the path is right\n",
        "ls \"$BIDS_DIR\" | head -20\n",
        "\n",
        "# 2. Find all T1w volumes and save to a list\n",
        "find \"$BIDS_DIR\" -type f -iname \"*T1w.nii.gz\" > /content/t1w_list.txt\n",
        "\n",
        "# 3. Count them\n",
        "T1W_COUNT=$(wc -l < /content/t1w_list.txt)\n",
        "echo \"Found ${T1W_COUNT} T1w.nii.gz files\"\n"
      ],
      "metadata": {
        "colab": {
          "base_uri": "https://localhost:8080/"
        },
        "id": "s7O4Od4s7-vZ",
        "outputId": "5ca1d8ad-ad21-4efb-e385-9773ccab4d4b"
      },
      "execution_count": 18,
      "outputs": [
        {
          "output_type": "stream",
          "name": "stdout",
          "text": [
            "Looking under /content/adni_bids_raw …\n",
            "ADNI_BIDS_raw\n",
            "Found 561 T1w.nii.gz files\n"
          ]
        }
      ]
    },
    {
      "cell_type": "code",
      "source": [
        "# (Re)build df_files with safe .get() for sessions\n",
        "import pandas as pd, os\n",
        "\n",
        "files = [p.strip() for p in open('/content/t1w_list.txt')]\n",
        "records = []\n",
        "for p in files:\n",
        "    parts = p.split(os.sep)\n",
        "    subj = next((x for x in parts if x.startswith('sub-')), None)\n",
        "    ses  = next((x for x in parts if x.lower().startswith('ses-')), None)\n",
        "    records.append({\n",
        "        'filepath': p,\n",
        "        'subject_id': subj,\n",
        "        'session_id': ses\n",
        "    })\n",
        "df_files = pd.DataFrame(records)\n",
        "\n",
        "# 1️⃣ Inspect what session labels you actually have:\n",
        "print(\"Unique session_ids in your BIDS:\")\n",
        "print(df_files['session_id'].value_counts())\n",
        "\n",
        "# 2️⃣ Filter to the baseline session (e.g. 'ses-m00') – adjust if yours is different:\n",
        "baseline_ses = 'ses-m00'\n",
        "df_files_baseline = df_files[df_files['session_id']==baseline_ses].copy()\n",
        "print(f\"\\nNumber of T1w scans in {baseline_ses}: {len(df_files_baseline)}\")\n"
      ],
      "metadata": {
        "colab": {
          "base_uri": "https://localhost:8080/"
        },
        "id": "Azv1VJ_d_oYP",
        "outputId": "025329bd-68c3-4fa7-b061-4315479c7177"
      },
      "execution_count": 19,
      "outputs": [
        {
          "output_type": "stream",
          "name": "stdout",
          "text": [
            "Unique session_ids in your BIDS:\n",
            "session_id\n",
            "ses-M00    187\n",
            "Name: count, dtype: int64\n",
            "\n",
            "Number of T1w scans in ses-m00: 0\n"
          ]
        }
      ]
    },
    {
      "cell_type": "code",
      "source": [
        "# Case-insensitive baseline filter\n",
        "df_files_baseline = df_files[\n",
        "    df_files['session_id'].str.lower() == 'ses-m00'\n",
        "].copy()\n",
        "print(f\"Baseline scans (ses‑M00): {len(df_files_baseline)}\")\n"
      ],
      "metadata": {
        "colab": {
          "base_uri": "https://localhost:8080/"
        },
        "id": "GJr2vRdpA-H0",
        "outputId": "a2581b7f-3f92-464f-ac4e-ab4453c54019"
      },
      "execution_count": 20,
      "outputs": [
        {
          "output_type": "stream",
          "name": "stdout",
          "text": [
            "Baseline scans (ses‑M00): 187\n"
          ]
        }
      ]
    },
    {
      "cell_type": "code",
      "source": [
        "%%bash\n",
        "echo \"Listing your ADNI_NewDS folder:\"\n",
        "ls -l /content/drive/MyDrive/ADNI_NewDS\n"
      ],
      "metadata": {
        "colab": {
          "base_uri": "https://localhost:8080/"
        },
        "id": "R4lR9kNFGD3G",
        "outputId": "c15fa2d4-75da-4ed1-a856-dd98acf326e2"
      },
      "execution_count": 22,
      "outputs": [
        {
          "output_type": "stream",
          "name": "stdout",
          "text": [
            "Listing your ADNI_NewDS folder:\n",
            "total 27473822\n",
            "-rw------- 1 root root 5519004684 Jun 29 22:53 ADNI_DS_NEW1.11.zip\n",
            "-rw------- 1 root root 5613514597 Jun 29 21:44 ADNI_DS_NEW1.1 (1).zip\n",
            "-rw------- 1 root root 5681673096 Jun 30 06:17 ADNI_DS_NEW1.12.zip\n",
            "-rw------- 1 root root 5362509974 Jun 30 06:44 ADNI_DS_NEW1.13.zip\n",
            "-rw------- 1 root root 5940812127 Jun 30 07:42 ADNI_DS_NEW1.14.zip\n",
            "-rw------- 1 root root    3021525 Jun 29 19:15 ADNI_DS_NEW1.1_metadata (1).zip\n",
            "-rw------- 1 root root   12652455 Jul 10 06:44 ADNIMERGE_08Jun2025.csv\n",
            "-rw------- 1 root root       2815 Jul 10 09:59 labels.zip\n"
          ]
        }
      ]
    },
    {
      "cell_type": "code",
      "source": [
        "# --- B. Read and filter ADNImerge as before ---\n",
        "adnimerge = pd.read_csv(\n",
        "    '/content/drive/MyDrive/ADNI_NewDS/ADNIMERGE_08Jun2025.csv',\n",
        "    low_memory=False\n",
        ")\n",
        "df_base = adnimerge[adnimerge['VISCODE']=='bl'].copy()\n",
        "\n",
        "# --- C. Build subject_id by prepending 'sub-' to the existing PTID string ---\n",
        "df_base['subject_id'] = 'sub-' + df_base['PTID'].astype(str)\n",
        "\n",
        "# --- D. Binary label mapping (adjust DX_bl if needed) ---\n",
        "df_base['binary'] = df_base['DX_bl'].map({\n",
        "    'NL': 0,\n",
        "    'EMCI':1, 'LMCI':1, 'MCI':1, 'AD':1\n",
        "})\n",
        "\n",
        "print(\"Baseline subjects:\", df_base['subject_id'].nunique())\n",
        "print(\"Baseline class distribution:\\n\", df_base['binary'].value_counts())\n",
        "\n",
        "# --- E. Merge with df_files_baseline ---\n",
        "df_merged = pd.merge(\n",
        "    df_files_baseline,\n",
        "    df_base[['subject_id','binary']],\n",
        "    on='subject_id',\n",
        "    how='inner'\n",
        ")\n",
        "print(f\"\\nRows after merge: {len(df_merged)} (should be 187)\")\n",
        "print(\"Merged class counts:\\n\", df_merged['binary'].value_counts())\n",
        "\n",
        "# --- F. Save final CSV ---\n",
        "df_merged.to_csv('/content/file_labels_final.csv', index=False)\n",
        "print(\"\\nSaved → /content/file_labels_final.csv\")\n"
      ],
      "metadata": {
        "colab": {
          "base_uri": "https://localhost:8080/"
        },
        "id": "JeuO3cRUBJRK",
        "outputId": "dca76711-33e7-4ddd-da87-fca1ebbb1add"
      },
      "execution_count": 24,
      "outputs": [
        {
          "output_type": "stream",
          "name": "stdout",
          "text": [
            "Baseline subjects: 2430\n",
            "Baseline class distribution:\n",
            " binary\n",
            "1.0    1524\n",
            "Name: count, dtype: int64\n",
            "\n",
            "Rows after merge: 0 (should be 187)\n",
            "Merged class counts:\n",
            " Series([], Name: count, dtype: int64)\n",
            "\n",
            "Saved → /content/file_labels_final.csv\n"
          ]
        }
      ]
    },
    {
      "cell_type": "code",
      "source": [
        "%%bash\n",
        "# Adjust this to point at the top of your BIDS tree\n",
        "BIDS_ROOT=/content/adni_bids_raw/ADNI_BIDS_raw\n",
        "\n",
        "echo \"First 20 subject folders under $BIDS_ROOT:\"\n",
        "find \"$BIDS_ROOT\" -maxdepth 1 -type d -name \"sub-*\" | sort | head -20\n"
      ],
      "metadata": {
        "colab": {
          "base_uri": "https://localhost:8080/"
        },
        "id": "QgKHZvgtH_ve",
        "outputId": "fc7e72f0-6699-4e4a-fdd3-3ce9081195bc"
      },
      "execution_count": 25,
      "outputs": [
        {
          "output_type": "stream",
          "name": "stdout",
          "text": [
            "First 20 subject folders under /content/adni_bids_raw/ADNI_BIDS_raw:\n",
            "/content/adni_bids_raw/ADNI_BIDS_raw/sub-002S0413\n",
            "/content/adni_bids_raw/ADNI_BIDS_raw/sub-002S0559\n",
            "/content/adni_bids_raw/ADNI_BIDS_raw/sub-002S0729\n",
            "/content/adni_bids_raw/ADNI_BIDS_raw/sub-002S0816\n",
            "/content/adni_bids_raw/ADNI_BIDS_raw/sub-002S0954\n",
            "/content/adni_bids_raw/ADNI_BIDS_raw/sub-002S1018\n",
            "/content/adni_bids_raw/ADNI_BIDS_raw/sub-002S1070\n",
            "/content/adni_bids_raw/ADNI_BIDS_raw/sub-002S1261\n",
            "/content/adni_bids_raw/ADNI_BIDS_raw/sub-002S1268\n",
            "/content/adni_bids_raw/ADNI_BIDS_raw/sub-002S1280\n",
            "/content/adni_bids_raw/ADNI_BIDS_raw/sub-005S0324\n",
            "/content/adni_bids_raw/ADNI_BIDS_raw/sub-005S0448\n",
            "/content/adni_bids_raw/ADNI_BIDS_raw/sub-005S0553\n",
            "/content/adni_bids_raw/ADNI_BIDS_raw/sub-005S0572\n",
            "/content/adni_bids_raw/ADNI_BIDS_raw/sub-005S0602\n",
            "/content/adni_bids_raw/ADNI_BIDS_raw/sub-005S0814\n",
            "/content/adni_bids_raw/ADNI_BIDS_raw/sub-007S1206\n",
            "/content/adni_bids_raw/ADNI_BIDS_raw/sub-007S1222\n",
            "/content/adni_bids_raw/ADNI_BIDS_raw/sub-007S1304\n",
            "/content/adni_bids_raw/ADNI_BIDS_raw/sub-012S0689\n"
          ]
        }
      ]
    },
    {
      "cell_type": "markdown",
      "source": [
        "Rebuild df_base with the corrected mapping"
      ],
      "metadata": {
        "id": "1qGN8gc9Ibih"
      }
    },
    {
      "cell_type": "code",
      "source": [
        "import pandas as pd\n",
        "\n",
        "# reload your clinical CSV\n",
        "adnimerge = pd.read_csv(\n",
        "    '/content/drive/MyDrive/ADNI_NewDS/ADNIMERGE_08Jun2025.csv',\n",
        "    low_memory=False\n",
        ")\n",
        "df_base = adnimerge[adnimerge['VISCODE']=='bl'].copy()\n",
        "\n",
        "# strip underscores and prepend 'sub-'\n",
        "df_base['subject_id'] = 'sub-' + df_base['PTID'].str.replace('_','')\n",
        "\n",
        "# binary label\n",
        "df_base['binary'] = df_base['DX_bl'].map({\n",
        "    'NL': 0,\n",
        "    'EMCI':1, 'LMCI':1, 'MCI':1, 'AD':1\n",
        "})\n"
      ],
      "metadata": {
        "id": "oL1BufzCIW5N"
      },
      "execution_count": 26,
      "outputs": []
    },
    {
      "cell_type": "markdown",
      "source": [
        "Merge with your 187 baseline file list (df_files_baseline):"
      ],
      "metadata": {
        "id": "GbBiW_yWIo2L"
      }
    },
    {
      "cell_type": "code",
      "source": [
        "df_merged = pd.merge(\n",
        "    df_files_baseline,\n",
        "    df_base[['subject_id','binary']],\n",
        "    on='subject_id',\n",
        "    how='inner'\n",
        ")\n",
        "print(f\"Rows after merge: {len(df_merged)} (expect 187)\")\n",
        "print(\"Class counts:\\n\", df_merged['binary'].value_counts())\n"
      ],
      "metadata": {
        "colab": {
          "base_uri": "https://localhost:8080/"
        },
        "id": "Zo3xcdJ-8WLP",
        "outputId": "39077c68-50a3-47d2-e27b-6ca5ec62a949"
      },
      "execution_count": 27,
      "outputs": [
        {
          "output_type": "stream",
          "name": "stdout",
          "text": [
            "Rows after merge: 187 (expect 187)\n",
            "Class counts:\n",
            " binary\n",
            "1.0    127\n",
            "Name: count, dtype: int64\n"
          ]
        }
      ]
    },
    {
      "cell_type": "code",
      "source": [
        "df_merged.to_csv('/content/file_labels_final.csv', index=False)\n"
      ],
      "metadata": {
        "id": "-LoLF4yRIlPu"
      },
      "execution_count": 28,
      "outputs": []
    },
    {
      "cell_type": "code",
      "source": [
        "import pandas as pd\n",
        "import matplotlib.pyplot as plt\n",
        "\n",
        "# 1. Load the final CSV\n",
        "df = pd.read_csv('/content/file_labels_final.csv')\n",
        "\n",
        "# 2. Preview of the first 10 rows\n",
        "print(\"=== Preview of file_labels_final.csv ===\")\n",
        "print(df.head(10).to_string(index=False))\n",
        "\n",
        "# 3. Class distribution\n",
        "dist = df['binary'].value_counts().reset_index()\n",
        "dist.columns = ['binary_label', 'count']\n",
        "print(\"\\n=== Class Distribution ===\")\n",
        "print(dist.to_string(index=False))\n",
        "\n",
        "# 4. Session distribution (all baseline)\n",
        "sess = df['session_id'].value_counts().reset_index()\n",
        "sess.columns = ['session_id', 'count']\n",
        "print(\"\\n=== Session Distribution ===\")\n",
        "print(sess.to_string(index=False))\n",
        "\n",
        "# 5. Files per subject (should all be 1)\n",
        "subj_cnt = df['subject_id'].value_counts().reset_index()\n",
        "subj_cnt.columns = ['subject_id', 'num_files']\n",
        "print(\"\\n=== Files per Subject (first 10) ===\")\n",
        "print(subj_cnt.head(10).to_string(index=False))\n",
        "\n",
        "# 6. Bar chart of class balance\n",
        "plt.figure()\n",
        "plt.bar(dist['binary_label'].astype(str), dist['count'])\n",
        "plt.title('Binary Class Distribution')\n",
        "plt.xlabel('Binary Label')\n",
        "plt.ylabel('Count')\n",
        "plt.show()\n"
      ],
      "metadata": {
        "colab": {
          "base_uri": "https://localhost:8080/",
          "height": 1000
        },
        "id": "U6ShIdLaLX-w",
        "outputId": "509f33d0-0bb9-4b80-c549-4078f69e48b5"
      },
      "execution_count": 40,
      "outputs": [
        {
          "output_type": "stream",
          "name": "stdout",
          "text": [
            "=== Preview of file_labels_final.csv ===\n",
            "                                                                                      filepath   subject_id session_id  binary\n",
            "/content/adni_bids_raw/ADNI_BIDS_raw/sub-136S0194/ses-M00/anat/sub-136S0194_ses-M00_T1w.nii.gz sub-136S0194    ses-M00       1\n",
            "/content/adni_bids_raw/ADNI_BIDS_raw/sub-031S0568/ses-M00/anat/sub-031S0568_ses-M00_T1w.nii.gz sub-031S0568    ses-M00       1\n",
            "/content/adni_bids_raw/ADNI_BIDS_raw/sub-100S0190/ses-M00/anat/sub-100S0190_ses-M00_T1w.nii.gz sub-100S0190    ses-M00       1\n",
            "/content/adni_bids_raw/ADNI_BIDS_raw/sub-130S1337/ses-M00/anat/sub-130S1337_ses-M00_T1w.nii.gz sub-130S1337    ses-M00       1\n",
            "/content/adni_bids_raw/ADNI_BIDS_raw/sub-068S0478/ses-M00/anat/sub-068S0478_ses-M00_T1w.nii.gz sub-068S0478    ses-M00       1\n",
            "/content/adni_bids_raw/ADNI_BIDS_raw/sub-005S0814/ses-M00/anat/sub-005S0814_ses-M00_T1w.nii.gz sub-005S0814    ses-M00       1\n",
            "/content/adni_bids_raw/ADNI_BIDS_raw/sub-136S0579/ses-M00/anat/sub-136S0579_ses-M00_T1w.nii.gz sub-136S0579    ses-M00       1\n",
            "/content/adni_bids_raw/ADNI_BIDS_raw/sub-013S1276/ses-M00/anat/sub-013S1276_ses-M00_T1w.nii.gz sub-013S1276    ses-M00       0\n",
            "/content/adni_bids_raw/ADNI_BIDS_raw/sub-023S1262/ses-M00/anat/sub-023S1262_ses-M00_T1w.nii.gz sub-023S1262    ses-M00       1\n",
            "/content/adni_bids_raw/ADNI_BIDS_raw/sub-013S1035/ses-M00/anat/sub-013S1035_ses-M00_T1w.nii.gz sub-013S1035    ses-M00       0\n",
            "\n",
            "=== Class Distribution ===\n",
            " binary_label  count\n",
            "            1    127\n",
            "            0     60\n",
            "\n",
            "=== Session Distribution ===\n",
            "session_id  count\n",
            "   ses-M00    187\n",
            "\n",
            "=== Files per Subject (first 10) ===\n",
            "  subject_id  num_files\n",
            "sub-136S0194          1\n",
            "sub-031S0568          1\n",
            "sub-100S0190          1\n",
            "sub-130S1337          1\n",
            "sub-068S0478          1\n",
            "sub-005S0814          1\n",
            "sub-136S0579          1\n",
            "sub-013S1276          1\n",
            "sub-023S1262          1\n",
            "sub-013S1035          1\n"
          ]
        },
        {
          "output_type": "display_data",
          "data": {
            "text/plain": [
              "<Figure size 640x480 with 1 Axes>"
            ],
            "image/png": "[encoded data removed]"
          },
          "metadata": {}
        }
      ]
    },
    {
      "cell_type": "code",
      "source": [
        "import pandas as pd\n",
        "\n",
        "# Reload your baseline clinical DataFrame\n",
        "adnimerge = pd.read_csv(\n",
        "    '/content/drive/MyDrive/ADNI_NewDS/ADNIMERGE_08Jun2025.csv',\n",
        "    low_memory=False\n",
        ")\n",
        "df_base = adnimerge[adnimerge['VISCODE']=='bl'].copy()\n",
        "\n",
        "# Show all unique DX_bl values (including NaNs)\n",
        "print(\"Unique baseline diagnosis codes and their counts:\")\n",
        "print(df_base['DX_bl'].value_counts(dropna=False))\n"
      ],
      "metadata": {
        "colab": {
          "base_uri": "https://localhost:8080/"
        },
        "id": "ZfSz8J6_QOkK",
        "outputId": "89bb381c-9220-428f-dcca-f2aab40e10cf"
      },
      "execution_count": 31,
      "outputs": [
        {
          "output_type": "stream",
          "name": "stdout",
          "text": [
            "Unique baseline diagnosis codes and their counts:\n",
            "DX_bl\n",
            "LMCI    690\n",
            "CN      542\n",
            "EMCI    423\n",
            "AD      411\n",
            "SMC     353\n",
            "NaN      11\n",
            "Name: count, dtype: int64\n"
          ]
        }
      ]
    },
    {
      "cell_type": "code",
      "source": [
        "import pandas as pd\n",
        "\n",
        "# Reload clinical baseline\n",
        "adnimerge = pd.read_csv(\n",
        "    '/content/drive/MyDrive/ADNI_NewDS/ADNIMERGE_08Jun2025.csv',\n",
        "    low_memory=False\n",
        ")\n",
        "df_base = adnimerge[adnimerge['VISCODE']=='bl'].copy()\n",
        "\n",
        "# Normalize subject_id\n",
        "df_base['subject_id'] = 'sub-' + df_base['PTID'].str.replace('_','')\n",
        "\n",
        "# Correct binary mapping\n",
        "mapping = {\n",
        "    'CN'  : 0,\n",
        "    'SMC' : 0,\n",
        "    'EMCI': 1,\n",
        "    'LMCI': 1,\n",
        "    'MCI' : 1,\n",
        "    'AD'  : 1\n",
        "}\n",
        "df_base['binary'] = df_base['DX_bl'].map(mapping)\n",
        "\n",
        "# Drop any rows with NaN binary\n",
        "df_base = df_base.dropna(subset=['binary'])\n",
        "\n",
        "print(\"After mapping & dropna, baseline subjects:\", df_base['subject_id'].nunique())\n",
        "print(\"Class counts:\\n\", df_base['binary'].value_counts())\n",
        "\n",
        "# Merge with your 187 baseline files\n",
        "df_merged = pd.merge(\n",
        "    df_files_baseline,\n",
        "    df_base[['subject_id','binary']],\n",
        "    on='subject_id',\n",
        "    how='inner'\n",
        ")\n",
        "\n",
        "# Drop any just‑in‑case NaNs and cast to int\n",
        "df_merged = df_merged.dropna(subset=['binary']).copy()\n",
        "df_merged['binary'] = df_merged['binary'].astype(int)\n",
        "\n",
        "# Resave\n",
        "df_merged.to_csv('/content/file_labels_final.csv', index=False)\n",
        "print(\"Resaved /content/file_labels_final.csv with\", len(df_merged), \"rows.\")\n",
        "print(\"Class counts:\\n\", df_merged['binary'].value_counts())\n",
        "\n",
        "print(f\"\\nRows after merge: {len(df_merged)} (expect 187)\")\n",
        "print(\"Merged class counts:\\n\", df_merged['binary'].value_counts())\n"
      ],
      "metadata": {
        "colab": {
          "base_uri": "https://localhost:8080/"
        },
        "id": "2diw-QwaRSoF",
        "outputId": "79ff24d8-9fb0-45a9-a43f-fa5ceeaa93a7"
      },
      "execution_count": 36,
      "outputs": [
        {
          "output_type": "stream",
          "name": "stdout",
          "text": [
            "After mapping & dropna, baseline subjects: 2419\n",
            "Class counts:\n",
            " binary\n",
            "1.0    1524\n",
            "0.0     895\n",
            "Name: count, dtype: int64\n",
            "Resaved /content/file_labels_final.csv with 187 rows.\n",
            "Class counts:\n",
            " binary\n",
            "1    127\n",
            "0     60\n",
            "Name: count, dtype: int64\n",
            "\n",
            "Rows after merge: 187 (expect 187)\n",
            "Merged class counts:\n",
            " binary\n",
            "1    127\n",
            "0     60\n",
            "Name: count, dtype: int64\n"
          ]
        }
      ]
    },
    {
      "cell_type": "code",
      "source": [
        "import pandas as pd\n",
        "df = pd.read_csv('/content/file_labels_final.csv')\n",
        "print(\"Final CSV label counts:\")\n",
        "print(df['binary'].value_counts(dropna=False))\n"
      ],
      "metadata": {
        "colab": {
          "base_uri": "https://localhost:8080/"
        },
        "id": "vDt0xc0kTu_5",
        "outputId": "17dda5d8-ba51-4706-a95a-a8ad8fd2a51a"
      },
      "execution_count": 37,
      "outputs": [
        {
          "output_type": "stream",
          "name": "stdout",
          "text": [
            "Final CSV label counts:\n",
            "binary\n",
            "1    127\n",
            "0     60\n",
            "Name: count, dtype: int64\n"
          ]
        }
      ]
    },
    {
      "cell_type": "code",
      "source": [
        "import pandas as pd\n",
        "from sklearn.model_selection import train_test_split\n",
        "\n",
        "df = pd.read_csv('/content/file_labels_final.csv')\n",
        "df = df.dropna(subset=['binary']).copy()\n",
        "df['binary'] = df['binary'].astype(int)\n",
        "\n",
        "# 1. train_val vs test (70/30)\n",
        "df_train_val, df_test = train_test_split(\n",
        "    df, test_size=0.30, stratify=df['binary'], random_state=42\n",
        ")\n",
        "\n",
        "# 2. train vs val (of the train_val split)\n",
        "val_frac = 0.15 / 0.70  # ≈0.2143\n",
        "df_train, df_val = train_test_split(\n",
        "    df_train_val, test_size=val_frac,\n",
        "    stratify=df_train_val['binary'], random_state=42\n",
        ")\n",
        "\n",
        "# 3. Save\n",
        "for name, subset in zip(['train','val','test'], [df_train, df_val, df_test]):\n",
        "    subset.to_csv(f'/content/{name}.csv', index=False)\n",
        "    print(f\"{name.upper()} ({len(subset)} samples):\")\n",
        "    print(subset['binary'].value_counts(), '\\n')\n"
      ],
      "metadata": {
        "colab": {
          "base_uri": "https://localhost:8080/"
        },
        "id": "4SygqdX4V_Ko",
        "outputId": "ddae7320-4e33-460f-954c-b0463459a3c4"
      },
      "execution_count": 39,
      "outputs": [
        {
          "output_type": "stream",
          "name": "stdout",
          "text": [
            "TRAIN (102 samples):\n",
            "binary\n",
            "1    69\n",
            "0    33\n",
            "Name: count, dtype: int64 \n",
            "\n",
            "VAL (28 samples):\n",
            "binary\n",
            "1    19\n",
            "0     9\n",
            "Name: count, dtype: int64 \n",
            "\n",
            "TEST (57 samples):\n",
            "binary\n",
            "1    39\n",
            "0    18\n",
            "Name: count, dtype: int64 \n",
            "\n"
          ]
        }
      ]
    }
  ]
}