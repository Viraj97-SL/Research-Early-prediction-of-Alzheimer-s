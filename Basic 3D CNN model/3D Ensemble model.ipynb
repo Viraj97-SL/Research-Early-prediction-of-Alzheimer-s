{
  "nbformat": 4,
  "nbformat_minor": 0,
  "metadata": {
    "colab": {
      "provenance": [],
      "machine_shape": "hm",
      "gpuType": "T4"
    },
    "kernelspec": {
      "name": "python3",
      "display_name": "Python 3"
    },
    "language_info": {
      "name": "python"
    },
    "accelerator": "GPU"
  },
  "cells": [
    {
      "cell_type": "markdown",
      "source": [
        "Data Import & Verification"
      ],
      "metadata": {
        "id": "-ZC7o0Kv35vt"
      }
    },
    {
      "cell_type": "code",
      "source": [
        "import numpy as np"
      ],
      "metadata": {
        "id": "gvyP2k6If-te"
      },
      "execution_count": 46,
      "outputs": []
    },
    {
      "cell_type": "code",
      "execution_count": 4,
      "metadata": {
        "colab": {
          "base_uri": "https://localhost:8080/"
        },
        "id": "2mOyWD_PuGZE",
        "outputId": "06b8dd37-6ae8-4862-83e0-9159f4bb3b21"
      },
      "outputs": [
        {
          "output_type": "stream",
          "name": "stdout",
          "text": [
            "GPU: Tesla T4\n"
          ]
        }
      ],
      "source": [
        "import torch, platform, os\n",
        "assert torch.cuda.is_available(), \"GPU not detected—check runtime type.\"\n",
        "print(\"GPU:\", torch.cuda.get_device_name(0))\n"
      ]
    },
    {
      "cell_type": "code",
      "source": [
        "from google.colab import drive\n",
        "drive.mount('/content/drive')\n"
      ],
      "metadata": {
        "colab": {
          "base_uri": "https://localhost:8080/"
        },
        "id": "CoHX0nnBxU-D",
        "outputId": "b749d0dc-f6de-4934-d09e-5237f7b39799"
      },
      "execution_count": 5,
      "outputs": [
        {
          "output_type": "stream",
          "name": "stdout",
          "text": [
            "Mounted at /content/drive\n"
          ]
        }
      ]
    },
    {
      "cell_type": "code",
      "source": [
        "# 2. Extract the BIDS archive into /content/adni_bids_raw\n",
        "!mkdir -p /content/adni_bids_raw\n",
        "!tar -xf /content/drive/MyDrive/ADNI_project/data/adni_bids_raw.tar.gz \\\n",
        "    -C /content/adni_bids_raw\n"
      ],
      "metadata": {
        "id": "w4Tf722-yyl8"
      },
      "execution_count": 6,
      "outputs": []
    },
    {
      "cell_type": "code",
      "source": [
        "# 3. Locate all T1w NIfTI files (case‐insensitive) and save to a list\n",
        "%%bash\n",
        "!find /content/adni_bids_raw -type f -iname \"*T1w.nii.gz\" > /content/t1w_list.txt\n",
        "\n",
        "# 4. Count them\n",
        "T1W_COUNT=$(wc -l < /content/t1w_list.txt)\n",
        "echo \"Found ${T1W_COUNT} T1w.nii.gz files\"\n"
      ],
      "metadata": {
        "colab": {
          "base_uri": "https://localhost:8080/"
        },
        "id": "nOPzg0NL5K5X",
        "outputId": "40f8b837-4a2e-4ce4-880a-c9246968fd60"
      },
      "execution_count": 7,
      "outputs": [
        {
          "output_type": "stream",
          "name": "stdout",
          "text": [
            "Found 0 T1w.nii.gz files\n"
          ]
        },
        {
          "output_type": "stream",
          "name": "stderr",
          "text": [
            "bash: line 1: !find: command not found\n"
          ]
        }
      ]
    },
    {
      "cell_type": "code",
      "source": [
        "#re-trying to count the number of fies\n",
        "import os\n",
        "\n",
        "print(\"Contents of /content:\")\n",
        "print(os.listdir('/content'))\n"
      ],
      "metadata": {
        "colab": {
          "base_uri": "https://localhost:8080/"
        },
        "id": "iNhbz-n37ujS",
        "outputId": "b30162b5-3366-4617-bb1f-61976cf45fad"
      },
      "execution_count": 23,
      "outputs": [
        {
          "output_type": "stream",
          "name": "stdout",
          "text": [
            "Contents of /content:\n",
            "['.config', 'drive', 't1w_list.txt', 'adni_bids_raw', 'file_labels_final.csv', 'sample_data']\n"
          ]
        }
      ]
    },
    {
      "cell_type": "code",
      "source": [
        "%%bash\n",
        "BIDS_DIR=/content/adni_bids_raw\n",
        "\n",
        "echo \"Looking under $BIDS_DIR …\"\n",
        "\n",
        "# 1. List first few entries so we know the path is right\n",
        "ls \"$BIDS_DIR\" | head -20\n",
        "\n",
        "# 2. Find all T1w volumes and save to a list\n",
        "find \"$BIDS_DIR\" -type f -iname \"*T1w.nii.gz\" > /content/t1w_list.txt\n",
        "\n",
        "# 3. Count them\n",
        "T1W_COUNT=$(wc -l < /content/t1w_list.txt)\n",
        "echo \"Found ${T1W_COUNT} T1w.nii.gz files\"\n"
      ],
      "metadata": {
        "colab": {
          "base_uri": "https://localhost:8080/"
        },
        "id": "s7O4Od4s7-vZ",
        "outputId": "90893c89-bab4-4acf-b890-1abc30b6e802"
      },
      "execution_count": 24,
      "outputs": [
        {
          "output_type": "stream",
          "name": "stdout",
          "text": [
            "Looking under /content/adni_bids_raw …\n",
            "ADNI_BIDS_raw\n",
            "Found 561 T1w.nii.gz files\n"
          ]
        }
      ]
    },
    {
      "cell_type": "code",
      "source": [
        "# (Re)build df_files with safe .get() for sessions\n",
        "import pandas as pd, os\n",
        "\n",
        "files = [p.strip() for p in open('/content/t1w_list.txt')]\n",
        "records = []\n",
        "for p in files:\n",
        "    parts = p.split(os.sep)\n",
        "    subj = next((x for x in parts if x.startswith('sub-')), None)\n",
        "    ses  = next((x for x in parts if x.lower().startswith('ses-')), None)\n",
        "    records.append({\n",
        "        'filepath': p,\n",
        "        'subject_id': subj,\n",
        "        'session_id': ses\n",
        "    })\n",
        "df_files = pd.DataFrame(records)\n",
        "\n",
        "# 1️⃣ Inspect what session labels you actually have:\n",
        "print(\"Unique session_ids in your BIDS:\")\n",
        "print(df_files['session_id'].value_counts())\n",
        "\n",
        "# 2️⃣ Filter to the baseline session (e.g. 'ses-m00') – adjust if yours is different:\n",
        "baseline_ses = 'ses-m00'\n",
        "df_files_baseline = df_files[df_files['session_id']==baseline_ses].copy()\n",
        "print(f\"\\nNumber of T1w scans in {baseline_ses}: {len(df_files_baseline)}\")\n"
      ],
      "metadata": {
        "colab": {
          "base_uri": "https://localhost:8080/"
        },
        "id": "Azv1VJ_d_oYP",
        "outputId": "adc70cd6-f275-4fac-939d-fe9cc4ed5bc3"
      },
      "execution_count": 25,
      "outputs": [
        {
          "output_type": "stream",
          "name": "stdout",
          "text": [
            "Unique session_ids in your BIDS:\n",
            "session_id\n",
            "ses-M00    187\n",
            "Name: count, dtype: int64\n",
            "\n",
            "Number of T1w scans in ses-m00: 0\n"
          ]
        }
      ]
    },
    {
      "cell_type": "code",
      "source": [
        "# Case-insensitive baseline filter\n",
        "df_files_baseline = df_files[\n",
        "    df_files['session_id'].str.lower() == 'ses-m00'\n",
        "].copy()\n",
        "print(f\"Baseline scans (ses‑M00): {len(df_files_baseline)}\")\n"
      ],
      "metadata": {
        "colab": {
          "base_uri": "https://localhost:8080/"
        },
        "id": "GJr2vRdpA-H0",
        "outputId": "990a88ef-8fe0-4fb4-ecff-b33ddb24d442"
      },
      "execution_count": 26,
      "outputs": [
        {
          "output_type": "stream",
          "name": "stdout",
          "text": [
            "Baseline scans (ses‑M00): 187\n"
          ]
        }
      ]
    },
    {
      "cell_type": "code",
      "source": [
        "%%bash\n",
        "echo \"Listing your ADNI_NewDS folder:\"\n",
        "ls -l /content/drive/MyDrive/ADNI_NewDS\n"
      ],
      "metadata": {
        "colab": {
          "base_uri": "https://localhost:8080/"
        },
        "id": "R4lR9kNFGD3G",
        "outputId": "f5818539-bb09-457d-cb06-a11978f57e1f"
      },
      "execution_count": 27,
      "outputs": [
        {
          "output_type": "stream",
          "name": "stdout",
          "text": [
            "Listing your ADNI_NewDS folder:\n",
            "total 27473822\n",
            "-rw------- 1 root root 5519004684 Jun 29 22:53 ADNI_DS_NEW1.11.zip\n",
            "-rw------- 1 root root 5613514597 Jun 29 21:44 ADNI_DS_NEW1.1 (1).zip\n",
            "-rw------- 1 root root 5681673096 Jun 30 06:17 ADNI_DS_NEW1.12.zip\n",
            "-rw------- 1 root root 5362509974 Jun 30 06:44 ADNI_DS_NEW1.13.zip\n",
            "-rw------- 1 root root 5940812127 Jun 30 07:42 ADNI_DS_NEW1.14.zip\n",
            "-rw------- 1 root root    3021525 Jun 29 19:15 ADNI_DS_NEW1.1_metadata (1).zip\n",
            "-rw------- 1 root root   12652455 Jul 10 06:44 ADNIMERGE_08Jun2025.csv\n",
            "-rw------- 1 root root       2815 Jul 10 09:59 labels.zip\n"
          ]
        }
      ]
    },
    {
      "cell_type": "code",
      "source": [
        "# --- B. Read and filter ADNImerge as before ---\n",
        "adnimerge = pd.read_csv(\n",
        "    '/content/drive/MyDrive/ADNI_NewDS/ADNIMERGE_08Jun2025.csv',\n",
        "    low_memory=False\n",
        ")\n",
        "df_base = adnimerge[adnimerge['VISCODE']=='bl'].copy()\n",
        "\n",
        "# --- C. Build subject_id by prepending 'sub-' to the existing PTID string ---\n",
        "df_base['subject_id'] = 'sub-' + df_base['PTID'].astype(str)\n",
        "\n",
        "# --- D. Binary label mapping (adjust DX_bl if needed) ---\n",
        "df_base['binary'] = df_base['DX_bl'].map({\n",
        "    'NL': 0,\n",
        "    'EMCI':1, 'LMCI':1, 'MCI':1, 'AD':1\n",
        "})\n",
        "\n",
        "print(\"Baseline subjects:\", df_base['subject_id'].nunique())\n",
        "print(\"Baseline class distribution:\\n\", df_base['binary'].value_counts())\n",
        "\n",
        "# --- E. Merge with df_files_baseline ---\n",
        "df_merged = pd.merge(\n",
        "    df_files_baseline,\n",
        "    df_base[['subject_id','binary']],\n",
        "    on='subject_id',\n",
        "    how='inner'\n",
        ")\n",
        "print(f\"\\nRows after merge: {len(df_merged)} (should be 187)\")\n",
        "print(\"Merged class counts:\\n\", df_merged['binary'].value_counts())\n",
        "\n",
        "# --- F. Save final CSV ---\n",
        "df_merged.to_csv('/content/file_labels_final.csv', index=False)\n",
        "print(\"\\nSaved → /content/file_labels_final.csv\")\n"
      ],
      "metadata": {
        "colab": {
          "base_uri": "https://localhost:8080/"
        },
        "id": "JeuO3cRUBJRK",
        "outputId": "6b5915aa-f8f2-4f28-e811-cb7d32816725"
      },
      "execution_count": 28,
      "outputs": [
        {
          "output_type": "stream",
          "name": "stdout",
          "text": [
            "Baseline subjects: 2430\n",
            "Baseline class distribution:\n",
            " binary\n",
            "1.0    1524\n",
            "Name: count, dtype: int64\n",
            "\n",
            "Rows after merge: 0 (should be 187)\n",
            "Merged class counts:\n",
            " Series([], Name: count, dtype: int64)\n",
            "\n",
            "Saved → /content/file_labels_final.csv\n"
          ]
        }
      ]
    },
    {
      "cell_type": "code",
      "source": [
        "%%bash\n",
        "# Adjust this to point at the top of your BIDS tree\n",
        "BIDS_ROOT=/content/adni_bids_raw/ADNI_BIDS_raw\n",
        "\n",
        "echo \"First 20 subject folders under $BIDS_ROOT:\"\n",
        "find \"$BIDS_ROOT\" -maxdepth 1 -type d -name \"sub-*\" | sort | head -20\n"
      ],
      "metadata": {
        "colab": {
          "base_uri": "https://localhost:8080/"
        },
        "id": "QgKHZvgtH_ve",
        "outputId": "58cb1f35-dcf6-40ea-e70f-a1a5615512b3"
      },
      "execution_count": 29,
      "outputs": [
        {
          "output_type": "stream",
          "name": "stdout",
          "text": [
            "First 20 subject folders under /content/adni_bids_raw/ADNI_BIDS_raw:\n",
            "/content/adni_bids_raw/ADNI_BIDS_raw/sub-002S0413\n",
            "/content/adni_bids_raw/ADNI_BIDS_raw/sub-002S0559\n",
            "/content/adni_bids_raw/ADNI_BIDS_raw/sub-002S0729\n",
            "/content/adni_bids_raw/ADNI_BIDS_raw/sub-002S0816\n",
            "/content/adni_bids_raw/ADNI_BIDS_raw/sub-002S0954\n",
            "/content/adni_bids_raw/ADNI_BIDS_raw/sub-002S1018\n",
            "/content/adni_bids_raw/ADNI_BIDS_raw/sub-002S1070\n",
            "/content/adni_bids_raw/ADNI_BIDS_raw/sub-002S1261\n",
            "/content/adni_bids_raw/ADNI_BIDS_raw/sub-002S1268\n",
            "/content/adni_bids_raw/ADNI_BIDS_raw/sub-002S1280\n",
            "/content/adni_bids_raw/ADNI_BIDS_raw/sub-005S0324\n",
            "/content/adni_bids_raw/ADNI_BIDS_raw/sub-005S0448\n",
            "/content/adni_bids_raw/ADNI_BIDS_raw/sub-005S0553\n",
            "/content/adni_bids_raw/ADNI_BIDS_raw/sub-005S0572\n",
            "/content/adni_bids_raw/ADNI_BIDS_raw/sub-005S0602\n",
            "/content/adni_bids_raw/ADNI_BIDS_raw/sub-005S0814\n",
            "/content/adni_bids_raw/ADNI_BIDS_raw/sub-007S1206\n",
            "/content/adni_bids_raw/ADNI_BIDS_raw/sub-007S1222\n",
            "/content/adni_bids_raw/ADNI_BIDS_raw/sub-007S1304\n",
            "/content/adni_bids_raw/ADNI_BIDS_raw/sub-012S0689\n"
          ]
        }
      ]
    },
    {
      "cell_type": "markdown",
      "source": [
        "Rebuild df_base with the corrected mapping"
      ],
      "metadata": {
        "id": "1qGN8gc9Ibih"
      }
    },
    {
      "cell_type": "code",
      "source": [
        "import pandas as pd\n",
        "\n",
        "# reload your clinical CSV\n",
        "adnimerge = pd.read_csv(\n",
        "    '/content/drive/MyDrive/ADNI_NewDS/ADNIMERGE_08Jun2025.csv',\n",
        "    low_memory=False\n",
        ")\n",
        "df_base = adnimerge[adnimerge['VISCODE']=='bl'].copy()\n",
        "\n",
        "# strip underscores and prepend 'sub-'\n",
        "df_base['subject_id'] = 'sub-' + df_base['PTID'].str.replace('_','')\n",
        "\n",
        "# binary label\n",
        "df_base['binary'] = df_base['DX_bl'].map({\n",
        "    'NL': 0,\n",
        "    'EMCI':1, 'LMCI':1, 'MCI':1, 'AD':1\n",
        "})\n"
      ],
      "metadata": {
        "id": "oL1BufzCIW5N"
      },
      "execution_count": 30,
      "outputs": []
    },
    {
      "cell_type": "markdown",
      "source": [
        "Merge with your 187 baseline file list (df_files_baseline):"
      ],
      "metadata": {
        "id": "GbBiW_yWIo2L"
      }
    },
    {
      "cell_type": "code",
      "source": [
        "df_merged = pd.merge(\n",
        "    df_files_baseline,\n",
        "    df_base[['subject_id','binary']],\n",
        "    on='subject_id',\n",
        "    how='inner'\n",
        ")\n",
        "print(f\"Rows after merge: {len(df_merged)} (expect 187)\")\n",
        "print(\"Class counts:\\n\", df_merged['binary'].value_counts())\n"
      ],
      "metadata": {
        "colab": {
          "base_uri": "https://localhost:8080/"
        },
        "id": "Zo3xcdJ-8WLP",
        "outputId": "0df926da-01fa-454c-e465-05df9cd50b27"
      },
      "execution_count": 31,
      "outputs": [
        {
          "output_type": "stream",
          "name": "stdout",
          "text": [
            "Rows after merge: 187 (expect 187)\n",
            "Class counts:\n",
            " binary\n",
            "1.0    127\n",
            "Name: count, dtype: int64\n"
          ]
        }
      ]
    },
    {
      "cell_type": "code",
      "source": [
        "df_merged.to_csv('/content/file_labels_final.csv', index=False)\n"
      ],
      "metadata": {
        "id": "-LoLF4yRIlPu"
      },
      "execution_count": 32,
      "outputs": []
    },
    {
      "cell_type": "code",
      "source": [
        "#checking the issue with one class"
      ],
      "metadata": {
        "id": "zBlT9dK8gC06"
      },
      "execution_count": null,
      "outputs": []
    },
    {
      "cell_type": "code",
      "source": [
        "import pandas as pd\n",
        "\n",
        "# Reload your baseline clinical DataFrame\n",
        "adnimerge = pd.read_csv(\n",
        "    '/content/drive/MyDrive/ADNI_NewDS/ADNIMERGE_08Jun2025.csv',\n",
        "    low_memory=False\n",
        ")\n",
        "df_base = adnimerge[adnimerge['VISCODE']=='bl'].copy()\n",
        "\n",
        "# Show all unique DX_bl values (including NaNs)\n",
        "print(\"Unique baseline diagnosis codes and their counts:\")\n",
        "print(df_base['DX_bl'].value_counts(dropna=False))\n"
      ],
      "metadata": {
        "colab": {
          "base_uri": "https://localhost:8080/"
        },
        "id": "ZfSz8J6_QOkK",
        "outputId": "df6c777c-c343-4c9f-b85b-9aaa135ac1b3"
      },
      "execution_count": 34,
      "outputs": [
        {
          "output_type": "stream",
          "name": "stdout",
          "text": [
            "Unique baseline diagnosis codes and their counts:\n",
            "DX_bl\n",
            "LMCI    690\n",
            "CN      542\n",
            "EMCI    423\n",
            "AD      411\n",
            "SMC     353\n",
            "NaN      11\n",
            "Name: count, dtype: int64\n"
          ]
        }
      ]
    },
    {
      "cell_type": "code",
      "source": [
        "import pandas as pd\n",
        "\n",
        "# Reload clinical baseline\n",
        "adnimerge = pd.read_csv(\n",
        "    '/content/drive/MyDrive/ADNI_NewDS/ADNIMERGE_08Jun2025.csv',\n",
        "    low_memory=False\n",
        ")\n",
        "df_base = adnimerge[adnimerge['VISCODE']=='bl'].copy()\n",
        "\n",
        "# Normalize subject_id\n",
        "df_base['subject_id'] = 'sub-' + df_base['PTID'].str.replace('_','')\n",
        "\n",
        "# Correct binary mapping\n",
        "mapping = {\n",
        "    'CN'  : 0,\n",
        "    'SMC' : 0,\n",
        "    'EMCI': 1,\n",
        "    'LMCI': 1,\n",
        "    'MCI' : 1,\n",
        "    'AD'  : 1\n",
        "}\n",
        "df_base['binary'] = df_base['DX_bl'].map(mapping)\n",
        "\n",
        "# Drop any rows with NaN binary\n",
        "df_base = df_base.dropna(subset=['binary'])\n",
        "\n",
        "print(\"After mapping & dropna, baseline subjects:\", df_base['subject_id'].nunique())\n",
        "print(\"Class counts:\\n\", df_base['binary'].value_counts())\n",
        "\n",
        "# Merge with your 187 baseline files\n",
        "df_merged = pd.merge(\n",
        "    df_files_baseline,\n",
        "    df_base[['subject_id','binary']],\n",
        "    on='subject_id',\n",
        "    how='inner'\n",
        ")\n",
        "\n",
        "# Drop any just‑in‑case NaNs and cast to int\n",
        "df_merged = df_merged.dropna(subset=['binary']).copy()\n",
        "df_merged['binary'] = df_merged['binary'].astype(int)\n",
        "\n",
        "# Resave\n",
        "df_merged.to_csv('/content/file_labels_final.csv', index=False)\n",
        "print(\"Resaved /content/file_labels_final.csv with\", len(df_merged), \"rows.\")\n",
        "print(\"Class counts:\\n\", df_merged['binary'].value_counts())\n",
        "\n",
        "print(f\"\\nRows after merge: {len(df_merged)} (expect 187)\")\n",
        "print(\"Merged class counts:\\n\", df_merged['binary'].value_counts())\n"
      ],
      "metadata": {
        "colab": {
          "base_uri": "https://localhost:8080/"
        },
        "id": "2diw-QwaRSoF",
        "outputId": "f9c57049-1d7c-4a95-c4ba-e1c6c1734bb5"
      },
      "execution_count": 35,
      "outputs": [
        {
          "output_type": "stream",
          "name": "stdout",
          "text": [
            "After mapping & dropna, baseline subjects: 2419\n",
            "Class counts:\n",
            " binary\n",
            "1.0    1524\n",
            "0.0     895\n",
            "Name: count, dtype: int64\n",
            "Resaved /content/file_labels_final.csv with 187 rows.\n",
            "Class counts:\n",
            " binary\n",
            "1    127\n",
            "0     60\n",
            "Name: count, dtype: int64\n",
            "\n",
            "Rows after merge: 187 (expect 187)\n",
            "Merged class counts:\n",
            " binary\n",
            "1    127\n",
            "0     60\n",
            "Name: count, dtype: int64\n"
          ]
        }
      ]
    },
    {
      "cell_type": "code",
      "source": [
        "import pandas as pd\n",
        "df = pd.read_csv('/content/file_labels_final.csv')\n",
        "print(\"Final CSV label counts:\")\n",
        "print(df['binary'].value_counts(dropna=False))\n"
      ],
      "metadata": {
        "colab": {
          "base_uri": "https://localhost:8080/"
        },
        "id": "vDt0xc0kTu_5",
        "outputId": "f8e675bd-968f-49f0-a744-5506ba33328a"
      },
      "execution_count": 36,
      "outputs": [
        {
          "output_type": "stream",
          "name": "stdout",
          "text": [
            "Final CSV label counts:\n",
            "binary\n",
            "1    127\n",
            "0     60\n",
            "Name: count, dtype: int64\n"
          ]
        }
      ]
    },
    {
      "cell_type": "code",
      "source": [
        "import pandas as pd\n",
        "import matplotlib.pyplot as plt\n",
        "\n",
        "# 1. Load the final CSV\n",
        "df = pd.read_csv('/content/file_labels_final.csv')\n",
        "\n",
        "# 2. Preview of the first 10 rows\n",
        "print(\"=== Preview of file_labels_final.csv ===\")\n",
        "print(df.head(10).to_string(index=False))\n",
        "\n",
        "# 3. Class distribution\n",
        "dist = df['binary'].value_counts().reset_index()\n",
        "dist.columns = ['binary_label', 'count']\n",
        "print(\"\\n=== Class Distribution ===\")\n",
        "print(dist.to_string(index=False))\n",
        "\n",
        "# 4. Session distribution (all baseline)\n",
        "sess = df['session_id'].value_counts().reset_index()\n",
        "sess.columns = ['session_id', 'count']\n",
        "print(\"\\n=== Session Distribution ===\")\n",
        "print(sess.to_string(index=False))\n",
        "\n",
        "# 5. Files per subject (should all be 1)\n",
        "subj_cnt = df['subject_id'].value_counts().reset_index()\n",
        "subj_cnt.columns = ['subject_id', 'num_files']\n",
        "print(\"\\n=== Files per Subject (first 10) ===\")\n",
        "print(subj_cnt.head(10).to_string(index=False))\n",
        "\n",
        "# 6. Bar chart of class balance\n",
        "plt.figure()\n",
        "plt.bar(dist['binary_label'].astype(str), dist['count'])\n",
        "plt.title('Binary Class Distribution')\n",
        "plt.xlabel('Binary Label')\n",
        "plt.ylabel('Count')\n",
        "plt.show()"
      ],
      "metadata": {
        "colab": {
          "base_uri": "https://localhost:8080/",
          "height": 1000
        },
        "id": "TueI24DLd0on",
        "outputId": "f502e76b-66c4-49e0-d749-516830501cd0"
      },
      "execution_count": 39,
      "outputs": [
        {
          "output_type": "stream",
          "name": "stdout",
          "text": [
            "=== Preview of file_labels_final.csv ===\n",
            "                                                                                      filepath   subject_id session_id  binary\n",
            "/content/adni_bids_raw/ADNI_BIDS_raw/sub-136S0194/ses-M00/anat/sub-136S0194_ses-M00_T1w.nii.gz sub-136S0194    ses-M00       1\n",
            "/content/adni_bids_raw/ADNI_BIDS_raw/sub-031S0568/ses-M00/anat/sub-031S0568_ses-M00_T1w.nii.gz sub-031S0568    ses-M00       1\n",
            "/content/adni_bids_raw/ADNI_BIDS_raw/sub-100S0190/ses-M00/anat/sub-100S0190_ses-M00_T1w.nii.gz sub-100S0190    ses-M00       1\n",
            "/content/adni_bids_raw/ADNI_BIDS_raw/sub-130S1337/ses-M00/anat/sub-130S1337_ses-M00_T1w.nii.gz sub-130S1337    ses-M00       1\n",
            "/content/adni_bids_raw/ADNI_BIDS_raw/sub-068S0478/ses-M00/anat/sub-068S0478_ses-M00_T1w.nii.gz sub-068S0478    ses-M00       1\n",
            "/content/adni_bids_raw/ADNI_BIDS_raw/sub-005S0814/ses-M00/anat/sub-005S0814_ses-M00_T1w.nii.gz sub-005S0814    ses-M00       1\n",
            "/content/adni_bids_raw/ADNI_BIDS_raw/sub-136S0579/ses-M00/anat/sub-136S0579_ses-M00_T1w.nii.gz sub-136S0579    ses-M00       1\n",
            "/content/adni_bids_raw/ADNI_BIDS_raw/sub-013S1276/ses-M00/anat/sub-013S1276_ses-M00_T1w.nii.gz sub-013S1276    ses-M00       0\n",
            "/content/adni_bids_raw/ADNI_BIDS_raw/sub-023S1262/ses-M00/anat/sub-023S1262_ses-M00_T1w.nii.gz sub-023S1262    ses-M00       1\n",
            "/content/adni_bids_raw/ADNI_BIDS_raw/sub-013S1035/ses-M00/anat/sub-013S1035_ses-M00_T1w.nii.gz sub-013S1035    ses-M00       0\n",
            "\n",
            "=== Class Distribution ===\n",
            " binary_label  count\n",
            "            1    127\n",
            "            0     60\n",
            "\n",
            "=== Session Distribution ===\n",
            "session_id  count\n",
            "   ses-M00    187\n",
            "\n",
            "=== Files per Subject (first 10) ===\n",
            "  subject_id  num_files\n",
            "sub-136S0194          1\n",
            "sub-031S0568          1\n",
            "sub-100S0190          1\n",
            "sub-130S1337          1\n",
            "sub-068S0478          1\n",
            "sub-005S0814          1\n",
            "sub-136S0579          1\n",
            "sub-013S1276          1\n",
            "sub-023S1262          1\n",
            "sub-013S1035          1\n"
          ]
        },
        {
          "output_type": "display_data",
          "data": {
            "text/plain": [
              "<Figure size 640x480 with 1 Axes>"
            ],
            "image/png": "[encoded data removed]"
          },
          "metadata": {}
        }
      ]
    },
    {
      "cell_type": "code",
      "source": [
        "import pandas as pd\n",
        "from sklearn.model_selection import train_test_split\n",
        "\n",
        "df = pd.read_csv('/content/file_labels_final.csv')\n",
        "df = df.dropna(subset=['binary']).copy()\n",
        "df['binary'] = df['binary'].astype(int)\n",
        "\n",
        "# 1. train_val vs test (70/30)\n",
        "df_train_val, df_test = train_test_split(\n",
        "    df, test_size=0.30, stratify=df['binary'], random_state=42\n",
        ")\n",
        "\n",
        "# 2. train vs val (of the train_val split)\n",
        "val_frac = 0.15 / 0.70  # ≈0.2143\n",
        "df_train, df_val = train_test_split(\n",
        "    df_train_val, test_size=val_frac,\n",
        "    stratify=df_train_val['binary'], random_state=42\n",
        ")\n",
        "\n",
        "# 3. Save\n",
        "for name, subset in zip(['train','val','test'], [df_train, df_val, df_test]):\n",
        "    subset.to_csv(f'/content/{name}.csv', index=False)\n",
        "    print(f\"{name.upper()} ({len(subset)} samples):\")\n",
        "    print(subset['binary'].value_counts(), '\\n')\n"
      ],
      "metadata": {
        "colab": {
          "base_uri": "https://localhost:8080/"
        },
        "id": "4SygqdX4V_Ko",
        "outputId": "3ea5c586-9278-4b51-f9f3-7630f1ca2c56"
      },
      "execution_count": 40,
      "outputs": [
        {
          "output_type": "stream",
          "name": "stdout",
          "text": [
            "TRAIN (102 samples):\n",
            "binary\n",
            "1    69\n",
            "0    33\n",
            "Name: count, dtype: int64 \n",
            "\n",
            "VAL (28 samples):\n",
            "binary\n",
            "1    19\n",
            "0     9\n",
            "Name: count, dtype: int64 \n",
            "\n",
            "TEST (57 samples):\n",
            "binary\n",
            "1    39\n",
            "0    18\n",
            "Name: count, dtype: int64 \n",
            "\n"
          ]
        }
      ]
    },
    {
      "cell_type": "markdown",
      "source": [
        "## 3D CNN Training Pipeline"
      ],
      "metadata": {
        "id": "lhce0ZNogI2g"
      }
    },
    {
      "cell_type": "markdown",
      "source": [
        "1. Install & import dependencies"
      ],
      "metadata": {
        "id": "8LHEpRgvgQ_-"
      }
    },
    {
      "cell_type": "code",
      "source": [
        "import numpy as np\n",
        "import torch\n",
        "import torch.nn as nn\n",
        "import torch.nn.functional as F\n",
        "from torch.utils.data import Dataset\n",
        "import nibabel as nib\n",
        "import torchio as tio\n",
        "import pandas as pd"
      ],
      "metadata": {
        "id": "tdfaOvQRgEkT"
      },
      "execution_count": 59,
      "outputs": []
    },
    {
      "cell_type": "markdown",
      "source": [
        "Define 3D Volume Dataset"
      ],
      "metadata": {
        "id": "m0qKqAsLbcna"
      }
    },
    {
      "cell_type": "code",
      "source": [
        "import torch\n",
        "\n",
        "def __getitem__(self, idx):\n",
        "    row = self.df.iloc[idx]\n",
        "    vol_np = nib.load(row.filepath).get_fdata().astype('float32')\n",
        "    vol_np = (vol_np - vol_np.min()) / (np.ptp(vol_np) + 1e-6)\n",
        "\n",
        "    # Turn into a float32 torch.Tensor here, not a NumPy array\n",
        "    vol_tensor = torch.from_numpy(vol_np).unsqueeze(0)  # shape (1, D, H, W), dtype float32\n",
        "\n",
        "    subject = tio.Subject(t1=tio.ScalarImage(tensor=vol_tensor))\n",
        "    if self.transform:\n",
        "        subject = self.transform(subject)\n",
        "    # AFTER transforms, re-extract and cast to float32\n",
        "    volume = subject.t1.data\n",
        "    volume = volume.float()              # <---- ensure float32\n",
        "\n",
        "    label = torch.tensor(row.binary, dtype=torch.long)\n",
        "    return volume, label\n"
      ],
      "metadata": {
        "id": "TgMpaCALaoHA"
      },
      "execution_count": 66,
      "outputs": []
    },
    {
      "cell_type": "markdown",
      "source": [
        "Set up TorchIO transforms & DataLoaders with balancing"
      ],
      "metadata": {
        "id": "LIxM0-x1bk8x"
      }
    },
    {
      "cell_type": "code",
      "source": [
        "patch_size = (96,128,96)\n",
        "\n",
        "train_transform = tio.Compose([\n",
        "    tio.Resample((1,1,1)),\n",
        "    tio.Resize(patch_size),\n",
        "    tio.RandomFlip(axes=('LR',)),\n",
        "    tio.RandomElasticDeformation(),\n",
        "    tio.RandomBiasField(),\n",
        "    tio.RandomMotion(),\n",
        "])\n",
        "\n",
        "val_transform = tio.Compose([\n",
        "    tio.Resample((1,1,1)),\n",
        "    tio.Resize(patch_size),\n",
        "])\n",
        "\n",
        "# Create datasets\n",
        "train_ds = VolumeDataset('/content/train.csv', transform=train_transform)\n",
        "val_ds   = VolumeDataset('/content/val.csv',   transform=val_transform)\n",
        "test_ds  = VolumeDataset('/content/test.csv',  transform=val_transform)\n",
        "\n",
        "# Build sampler to oversample minority\n",
        "counts = train_ds.df.binary.value_counts().sort_index().values\n",
        "class_weights = 1.0 / counts\n",
        "sample_weights = train_ds.df.binary.map(lambda x: class_weights[x]).values\n",
        "sampler = WeightedRandomSampler(sample_weights, len(sample_weights), True)\n",
        "\n",
        "train_loader = DataLoader(train_ds, batch_size=2, sampler=sampler, num_workers=2)\n",
        "val_loader   = DataLoader(val_ds,   batch_size=2, shuffle=False,   num_workers=2)\n",
        "test_loader  = DataLoader(test_ds,  batch_size=2, shuffle=False,   num_workers=2)\n"
      ],
      "metadata": {
        "id": "DKSq2tpLbika"
      },
      "execution_count": 67,
      "outputs": []
    },
    {
      "cell_type": "markdown",
      "source": [
        "Define a baseline 3D CNN"
      ],
      "metadata": {
        "id": "oA5b4ik6eT5-"
      }
    },
    {
      "cell_type": "code",
      "source": [
        "class Basic3DCNN(nn.Module):\n",
        "    def __init__(self):\n",
        "        super().__init__()\n",
        "        self.conv1 = nn.Conv3d(1,16,3,padding=1); self.bn1 = nn.BatchNorm3d(16)\n",
        "        self.conv2 = nn.Conv3d(16,32,3,padding=1); self.bn2 = nn.BatchNorm3d(32)\n",
        "        self.conv3 = nn.Conv3d(32,64,3,padding=1); self.bn3 = nn.BatchNorm3d(64)\n",
        "        self.pool  = nn.MaxPool3d(2)\n",
        "        flat = 64 * (patch_size[0]//8) * (patch_size[1]//8) * (patch_size[2]//8)\n",
        "        self.fc1   = nn.Linear(flat,128)\n",
        "        self.fc2   = nn.Linear(128,2)\n",
        "    def forward(self,x):\n",
        "        x = self.pool(F.relu(self.bn1(self.conv1(x))))\n",
        "        x = self.pool(F.relu(self.bn2(self.conv2(x))))\n",
        "        x = self.pool(F.relu(self.bn3(self.conv3(x))))\n",
        "        x = x.view(x.size(0),-1)\n",
        "        x = F.relu(self.fc1(x))\n",
        "        return self.fc2(x)\n"
      ],
      "metadata": {
        "id": "zmikaY_LeQWO"
      },
      "execution_count": 68,
      "outputs": []
    },
    {
      "cell_type": "markdown",
      "source": [
        "Set up training"
      ],
      "metadata": {
        "id": "gSIPdnKeeXda"
      }
    },
    {
      "cell_type": "code",
      "source": [
        "device = torch.device('cuda' if torch.cuda.is_available() else 'cpu')\n",
        "model = Basic3DCNN().to(device)\n",
        "\n",
        "# Class‐weighted loss (ensure float32)\n",
        "weights = torch.tensor([class_weights[0], class_weights[1]],\n",
        "                       dtype=torch.float32,\n",
        "                       device=device)\n",
        "criterion = nn.CrossEntropyLoss(weight=weights)\n",
        "\n",
        "optimizer = optim.AdamW(model.parameters(), lr=1e-4, weight_decay=1e-5)\n",
        "scheduler = optim.lr_scheduler.ReduceLROnPlateau(optimizer, patience=2)\n",
        "\n",
        "def train_epoch():\n",
        "    model.train()\n",
        "    total_loss = 0\n",
        "    for x, y in tqdm(train_loader, desc='Train'):\n",
        "        x, y = x.to(device), y.to(device)\n",
        "        optimizer.zero_grad()\n",
        "        loss = criterion(model(x), y)\n",
        "        loss.backward()\n",
        "        optimizer.step()\n",
        "        total_loss += loss.item()\n",
        "    return total_loss / len(train_loader)\n",
        "\n",
        "def eval_loader(loader):\n",
        "    model.eval()\n",
        "    total_loss = 0\n",
        "    correct = 0\n",
        "    total = 0\n",
        "    with torch.no_grad():\n",
        "        for x, y in tqdm(loader, desc='Eval'):\n",
        "            x, y = x.to(device), y.to(device)\n",
        "            out = model(x)\n",
        "            total_loss += criterion(out, y).item()\n",
        "            preds = out.argmax(dim=1)\n",
        "            correct += (preds == y).sum().item()\n",
        "            total += y.size(0)\n",
        "    return total_loss / len(loader), correct / total\n"
      ],
      "metadata": {
        "id": "kyeBd3YQeaLa"
      },
      "execution_count": 71,
      "outputs": []
    },
    {
      "cell_type": "markdown",
      "source": [
        "Run the training loop"
      ],
      "metadata": {
        "id": "h6xklqkafOD-"
      }
    },
    {
      "cell_type": "code",
      "source": [
        "best_val=0\n",
        "for epoch in range(1, 21):\n",
        "    tr_loss = train_epoch()\n",
        "    val_loss, val_acc = eval_loader(val_loader)\n",
        "    scheduler.step(val_loss)\n",
        "    print(f\"Epoch {epoch}: train {tr_loss:.3f}, val {val_loss:.3f}, acc {val_acc:.3%}\")\n",
        "    if val_acc>best_val:\n",
        "        best_val=val_acc\n",
        "        torch.save(model.state_dict(), 'best3dcnn.pth')\n",
        "        print(\"→ New best model saved\")\n"
      ],
      "metadata": {
        "colab": {
          "base_uri": "https://localhost:8080/"
        },
        "id": "N_lKSz0TfSt0",
        "outputId": "7b4cc963-e6ef-4f2e-f0df-6f309ddb734a"
      },
      "execution_count": 72,
      "outputs": [
        {
          "output_type": "stream",
          "name": "stderr",
          "text": [
            "Train: 100%|██████████| 51/51 [01:36<00:00,  1.89s/it]\n",
            "Eval: 100%|██████████| 14/14 [00:10<00:00,  1.30it/s]\n"
          ]
        },
        {
          "output_type": "stream",
          "name": "stdout",
          "text": [
            "Epoch 1: train 4.359, val 1.098, acc 57.143%\n",
            "→ New best model saved\n"
          ]
        },
        {
          "output_type": "stream",
          "name": "stderr",
          "text": [
            "Train: 100%|██████████| 51/51 [01:32<00:00,  1.82s/it]\n",
            "Eval: 100%|██████████| 14/14 [00:10<00:00,  1.31it/s]\n"
          ]
        },
        {
          "output_type": "stream",
          "name": "stdout",
          "text": [
            "Epoch 2: train 2.413, val 1.919, acc 39.286%\n"
          ]
        },
        {
          "output_type": "stream",
          "name": "stderr",
          "text": [
            "Train: 100%|██████████| 51/51 [01:33<00:00,  1.84s/it]\n",
            "Eval: 100%|██████████| 14/14 [00:10<00:00,  1.30it/s]\n"
          ]
        },
        {
          "output_type": "stream",
          "name": "stdout",
          "text": [
            "Epoch 3: train 2.483, val 1.520, acc 71.429%\n",
            "→ New best model saved\n"
          ]
        },
        {
          "output_type": "stream",
          "name": "stderr",
          "text": [
            "Train: 100%|██████████| 51/51 [01:34<00:00,  1.86s/it]\n",
            "Eval: 100%|██████████| 14/14 [00:10<00:00,  1.32it/s]\n"
          ]
        },
        {
          "output_type": "stream",
          "name": "stdout",
          "text": [
            "Epoch 4: train 1.515, val 1.537, acc 32.143%\n"
          ]
        },
        {
          "output_type": "stream",
          "name": "stderr",
          "text": [
            "Train: 100%|██████████| 51/51 [01:32<00:00,  1.81s/it]\n",
            "Eval: 100%|██████████| 14/14 [00:10<00:00,  1.33it/s]\n"
          ]
        },
        {
          "output_type": "stream",
          "name": "stdout",
          "text": [
            "Epoch 5: train 1.647, val 1.049, acc 39.286%\n"
          ]
        },
        {
          "output_type": "stream",
          "name": "stderr",
          "text": [
            "Train: 100%|██████████| 51/51 [01:30<00:00,  1.78s/it]\n",
            "Eval: 100%|██████████| 14/14 [00:10<00:00,  1.33it/s]\n"
          ]
        },
        {
          "output_type": "stream",
          "name": "stdout",
          "text": [
            "Epoch 6: train 0.941, val 0.899, acc 60.714%\n"
          ]
        },
        {
          "output_type": "stream",
          "name": "stderr",
          "text": [
            "Train: 100%|██████████| 51/51 [01:29<00:00,  1.75s/it]\n",
            "Eval: 100%|██████████| 14/14 [00:10<00:00,  1.32it/s]\n"
          ]
        },
        {
          "output_type": "stream",
          "name": "stdout",
          "text": [
            "Epoch 7: train 0.707, val 1.166, acc 39.286%\n"
          ]
        },
        {
          "output_type": "stream",
          "name": "stderr",
          "text": [
            "Train: 100%|██████████| 51/51 [01:35<00:00,  1.87s/it]\n",
            "Eval: 100%|██████████| 14/14 [00:10<00:00,  1.32it/s]\n"
          ]
        },
        {
          "output_type": "stream",
          "name": "stdout",
          "text": [
            "Epoch 8: train 0.708, val 0.979, acc 35.714%\n"
          ]
        },
        {
          "output_type": "stream",
          "name": "stderr",
          "text": [
            "Train: 100%|██████████| 51/51 [01:28<00:00,  1.74s/it]\n",
            "Eval: 100%|██████████| 14/14 [00:10<00:00,  1.32it/s]\n"
          ]
        },
        {
          "output_type": "stream",
          "name": "stdout",
          "text": [
            "Epoch 9: train 0.803, val 0.797, acc 53.571%\n"
          ]
        },
        {
          "output_type": "stream",
          "name": "stderr",
          "text": [
            "Train: 100%|██████████| 51/51 [01:32<00:00,  1.81s/it]\n",
            "Eval: 100%|██████████| 14/14 [00:10<00:00,  1.32it/s]\n"
          ]
        },
        {
          "output_type": "stream",
          "name": "stdout",
          "text": [
            "Epoch 10: train 0.624, val 0.692, acc 60.714%\n"
          ]
        },
        {
          "output_type": "stream",
          "name": "stderr",
          "text": [
            "Train: 100%|██████████| 51/51 [01:30<00:00,  1.78s/it]\n",
            "Eval: 100%|██████████| 14/14 [00:10<00:00,  1.30it/s]\n"
          ]
        },
        {
          "output_type": "stream",
          "name": "stdout",
          "text": [
            "Epoch 11: train 0.583, val 0.752, acc 60.714%\n"
          ]
        },
        {
          "output_type": "stream",
          "name": "stderr",
          "text": [
            "Train: 100%|██████████| 51/51 [01:30<00:00,  1.78s/it]\n",
            "Eval: 100%|██████████| 14/14 [00:10<00:00,  1.32it/s]\n"
          ]
        },
        {
          "output_type": "stream",
          "name": "stdout",
          "text": [
            "Epoch 12: train 0.550, val 0.879, acc 53.571%\n"
          ]
        },
        {
          "output_type": "stream",
          "name": "stderr",
          "text": [
            "Train: 100%|██████████| 51/51 [01:32<00:00,  1.80s/it]\n",
            "Eval: 100%|██████████| 14/14 [00:10<00:00,  1.32it/s]\n"
          ]
        },
        {
          "output_type": "stream",
          "name": "stdout",
          "text": [
            "Epoch 13: train 0.718, val 0.841, acc 53.571%\n"
          ]
        },
        {
          "output_type": "stream",
          "name": "stderr",
          "text": [
            "Train: 100%|██████████| 51/51 [01:29<00:00,  1.75s/it]\n",
            "Eval: 100%|██████████| 14/14 [00:10<00:00,  1.33it/s]\n"
          ]
        },
        {
          "output_type": "stream",
          "name": "stdout",
          "text": [
            "Epoch 14: train 0.640, val 0.789, acc 50.000%\n"
          ]
        },
        {
          "output_type": "stream",
          "name": "stderr",
          "text": [
            "Train: 100%|██████████| 51/51 [01:30<00:00,  1.78s/it]\n",
            "Eval: 100%|██████████| 14/14 [00:10<00:00,  1.32it/s]\n"
          ]
        },
        {
          "output_type": "stream",
          "name": "stdout",
          "text": [
            "Epoch 15: train 0.495, val 0.987, acc 53.571%\n"
          ]
        },
        {
          "output_type": "stream",
          "name": "stderr",
          "text": [
            "Train: 100%|██████████| 51/51 [01:31<00:00,  1.80s/it]\n",
            "Eval: 100%|██████████| 14/14 [00:10<00:00,  1.32it/s]\n"
          ]
        },
        {
          "output_type": "stream",
          "name": "stdout",
          "text": [
            "Epoch 16: train 0.397, val 0.784, acc 57.143%\n"
          ]
        },
        {
          "output_type": "stream",
          "name": "stderr",
          "text": [
            "Train: 100%|██████████| 51/51 [01:31<00:00,  1.79s/it]\n",
            "Eval: 100%|██████████| 14/14 [00:10<00:00,  1.32it/s]\n"
          ]
        },
        {
          "output_type": "stream",
          "name": "stdout",
          "text": [
            "Epoch 17: train 0.602, val 0.821, acc 53.571%\n"
          ]
        },
        {
          "output_type": "stream",
          "name": "stderr",
          "text": [
            "Train: 100%|██████████| 51/51 [01:30<00:00,  1.77s/it]\n",
            "Eval: 100%|██████████| 14/14 [00:10<00:00,  1.33it/s]\n"
          ]
        },
        {
          "output_type": "stream",
          "name": "stdout",
          "text": [
            "Epoch 18: train 0.518, val 0.756, acc 53.571%\n"
          ]
        },
        {
          "output_type": "stream",
          "name": "stderr",
          "text": [
            "Train: 100%|██████████| 51/51 [01:30<00:00,  1.77s/it]\n",
            "Eval: 100%|██████████| 14/14 [00:10<00:00,  1.32it/s]\n"
          ]
        },
        {
          "output_type": "stream",
          "name": "stdout",
          "text": [
            "Epoch 19: train 0.465, val 0.748, acc 53.571%\n"
          ]
        },
        {
          "output_type": "stream",
          "name": "stderr",
          "text": [
            "Train: 100%|██████████| 51/51 [01:29<00:00,  1.75s/it]\n",
            "Eval: 100%|██████████| 14/14 [00:10<00:00,  1.32it/s]"
          ]
        },
        {
          "output_type": "stream",
          "name": "stdout",
          "text": [
            "Epoch 20: train 0.529, val 0.773, acc 60.714%\n"
          ]
        },
        {
          "output_type": "stream",
          "name": "stderr",
          "text": [
            "\n"
          ]
        }
      ]
    },
    {
      "cell_type": "markdown",
      "source": [
        "Run the Test loop"
      ],
      "metadata": {
        "id": "H4dut7ChwneT"
      }
    },
    {
      "cell_type": "code",
      "source": [
        "# 1. Rebuild your model architecture\n",
        "model = Basic3DCNN().to(device)\n",
        "\n",
        "# 2. Load the best weights\n",
        "model.load_state_dict(torch.load('best3dcnn.pth', map_location=device))\n",
        "\n",
        "# 3. Switch to eval mode\n",
        "model.eval()\n",
        "\n",
        "# 4. Run through your test_loader\n",
        "from sklearn.metrics import accuracy_score, precision_recall_fscore_support, confusion_matrix, roc_auc_score\n",
        "\n",
        "all_preds, all_labels = [], []\n",
        "with torch.no_grad():\n",
        "    for x,y in test_loader:\n",
        "        x = x.to(device)\n",
        "        out = model(x)\n",
        "        preds = out.argmax(1).cpu().numpy()\n",
        "        all_preds.extend(preds)\n",
        "        all_labels.extend(y.numpy())\n",
        "\n",
        "# 5. Compute metrics\n",
        "acc = accuracy_score(all_labels, all_preds)\n",
        "prec, recall, f1, _ = precision_recall_fscore_support(all_labels, all_preds, average='binary')\n",
        "cm = confusion_matrix(all_labels, all_preds)\n",
        "auc = roc_auc_score(all_labels, all_preds)\n",
        "\n",
        "print(f\"Test Accuracy:  {acc:.3f}\")\n",
        "print(f\"Precision:      {prec:.3f}\")\n",
        "print(f\"Recall:         {recall:.3f}\")\n",
        "print(f\"F1‐Score:       {f1:.3f}\")\n",
        "print(f\"AUC:            {auc:.3f}\")\n",
        "print(\"Confusion Matrix:\\n\", cm)\n"
      ],
      "metadata": {
        "colab": {
          "base_uri": "https://localhost:8080/"
        },
        "id": "Z508Rb7gtIrc",
        "outputId": "179f0578-6ced-4dd2-c5a9-8ba91933ad77"
      },
      "execution_count": 77,
      "outputs": [
        {
          "output_type": "stream",
          "name": "stdout",
          "text": [
            "Test Accuracy:  0.456\n",
            "Precision:      0.654\n",
            "Recall:         0.436\n",
            "F1‐Score:       0.523\n",
            "AUC:            0.468\n",
            "Confusion Matrix:\n",
            " [[ 9  9]\n",
            " [22 17]]\n"
          ]
        }
      ]
    },
    {
      "cell_type": "code",
      "source": [
        "from sklearn.metrics import confusion_matrix, ConfusionMatrixDisplay\n",
        "\n",
        "# 1. Gather all labels & preds\n",
        "all_labels = []\n",
        "all_preds  = []\n",
        "model.load_state_dict(torch.load('best3dcnn.pth', map_location=device))\n",
        "model.eval()\n",
        "with torch.no_grad():\n",
        "    for x,y in test_loader:\n",
        "        x = x.to(device)\n",
        "        out = model(x)\n",
        "        preds = out.argmax(1).cpu().numpy()\n",
        "        all_preds.extend(preds)\n",
        "        all_labels.extend(y.numpy())\n",
        "\n",
        "# 2. Confusion matrix\n",
        "cm = confusion_matrix(all_labels, all_preds)\n",
        "disp = ConfusionMatrixDisplay(cm, display_labels=['CN','AD/MCI'])\n",
        "disp.plot(cmap='Blues')\n",
        "plt.title('Test Confusion Matrix')\n",
        "plt.show()\n"
      ],
      "metadata": {
        "colab": {
          "base_uri": "https://localhost:8080/",
          "height": 472
        },
        "id": "Y2pC8PqcsBh2",
        "outputId": "08a3770a-f8ca-45ee-a49b-2b5171d7c8e0"
      },
      "execution_count": 78,
      "outputs": [
        {
          "output_type": "display_data",
          "data": {
            "text/plain": [
              "<Figure size 640x480 with 2 Axes>"
            ],
            "image/png": "[encoded data removed]"
          },
          "metadata": {}
        }
      ]
    },
    {
      "cell_type": "code",
      "source": [
        "from sklearn.metrics import roc_curve, auc, precision_recall_curve\n",
        "\n",
        "# 1. Get prediction probabilities for the positive class\n",
        "all_probs = []\n",
        "with torch.no_grad():\n",
        "    for x,y in test_loader:\n",
        "        x = x.to(device)\n",
        "        out = model(x)\n",
        "        probs = torch.softmax(out, dim=1)[:,1].cpu().numpy()\n",
        "        all_probs.extend(probs)\n",
        "\n",
        "# 2. ROC curve\n",
        "fpr, tpr, _ = roc_curve(all_labels, all_probs)\n",
        "roc_auc = auc(fpr, tpr)\n",
        "plt.figure()\n",
        "plt.plot(fpr, tpr, label=f'AUC = {roc_auc:.3f}')\n",
        "plt.plot([0,1],[0,1],'--')\n",
        "plt.xlabel('False Positive Rate')\n",
        "plt.ylabel('True Positive Rate')\n",
        "plt.title('ROC Curve')\n",
        "plt.legend()\n",
        "plt.grid(True)\n",
        "plt.show()\n",
        "\n",
        "# 3. Precision–Recall curve\n",
        "prec, rec, _ = precision_recall_curve(all_labels, all_probs)\n",
        "plt.figure()\n",
        "plt.plot(rec, prec)\n",
        "plt.xlabel('Recall')\n",
        "plt.ylabel('Precision')\n",
        "plt.title('Precision–Recall Curve')\n",
        "plt.grid(True)\n",
        "plt.show()\n"
      ],
      "metadata": {
        "colab": {
          "base_uri": "https://localhost:8080/",
          "height": 927
        },
        "id": "WUIreKDJwR9y",
        "outputId": "bca311c1-8fad-42eb-c1e4-7a868652e510"
      },
      "execution_count": 79,
      "outputs": [
        {
          "output_type": "display_data",
          "data": {
            "text/plain": [
              "<Figure size 640x480 with 1 Axes>"
            ],
            "image/png": "[encoded data removed]"
          },
          "metadata": {}
        },
        {
          "output_type": "display_data",
          "data": {
            "text/plain": [
              "<Figure size 640x480 with 1 Axes>"
            ],
            "image/png": "[encoded data removed]"
          },
          "metadata": {}
        }
      ]
    },
    {
      "cell_type": "code",
      "source": [],
      "metadata": {
        "id": "QwfktDbXwyZQ"
      },
      "execution_count": null,
      "outputs": []
    },
    {
      "cell_type": "markdown",
      "source": [
        "Adjusting an balancing for imrove the results"
      ],
      "metadata": {
        "id": "a6RCkzHgx2jR"
      }
    },
    {
      "cell_type": "markdown",
      "source": [
        "Dataset, Transforms & Loaders"
      ],
      "metadata": {
        "id": "d_ofUvSw0kOd"
      }
    },
    {
      "cell_type": "code",
      "source": [
        "!pip install torchio\n",
        "import torch, numpy as np\n",
        "import torch.nn.functional as F\n",
        "import nibabel as nib\n",
        "import torchio as tio\n",
        "from torch.utils.data import Dataset, DataLoader, WeightedRandomSampler\n",
        "\n",
        "patch_size = (96,128,96)\n",
        "\n",
        "class VolumeDataset(Dataset):\n",
        "    def __init__(self, csv_file, transform=None):\n",
        "        self.df = pd.read_csv(csv_file)\n",
        "        self.transform = transform\n",
        "    def __len__(self): return len(self.df)\n",
        "    def __getitem__(self, idx):\n",
        "        row = self.df.iloc[idx]\n",
        "        vol = nib.load(row.filepath).get_fdata().astype('float32')\n",
        "        vol = (vol - vol.min()) / (np.ptp(vol) + 1e-6)\n",
        "        vol = torch.from_numpy(vol)[None,...]\n",
        "        subject = tio.Subject(t1=tio.ScalarImage(tensor=vol))\n",
        "        if self.transform: subject = self.transform(subject)\n",
        "        tensor = subject.t1.data.float()\n",
        "        label  = torch.tensor(row.binary, dtype=torch.long)\n",
        "        return tensor, label\n",
        "\n",
        "train_transform = tio.Compose([\n",
        "    tio.Resample((1,1,1)), tio.Resize(patch_size),\n",
        "    tio.RandomFlip(), tio.RandomElasticDeformation(),\n",
        "    tio.RandomBiasField(), tio.RandomMotion()\n",
        "])\n",
        "val_transform = tio.Compose([\n",
        "    tio.Resample((1,1,1)), tio.Resize(patch_size)\n",
        "])\n",
        "\n",
        "def make_loader(csv, transform, batch_size=2):\n",
        "    dfc = pd.read_csv(csv)\n",
        "    # weighted sampler\n",
        "    counts = dfc.binary.value_counts().sort_index().values\n",
        "    cw     = 1.0/counts\n",
        "    sw     = dfc.binary.map(lambda x: cw[x]).values\n",
        "    sampler= WeightedRandomSampler(sw, len(sw), True)\n",
        "    ds     = VolumeDataset(csv, transform=transform)\n",
        "    return DataLoader(ds, batch_size=batch_size,\n",
        "                      sampler=sampler if 'train' in csv else None,\n",
        "                      shuffle=False if 'train' not in csv else False,\n",
        "                      num_workers=2)\n",
        "\n",
        "train_loader = make_loader('/content/train.csv', train_transform, batch_size=2)\n",
        "val_loader   = make_loader('/content/val.csv',   val_transform,   batch_size=2)\n",
        "test_loader  = make_loader('/content/test.csv',  val_transform,   batch_size=2)\n"
      ],
      "metadata": {
        "colab": {
          "base_uri": "https://localhost:8080/"
        },
        "id": "Vx-CmLXR0iV5",
        "outputId": "c6d616e0-b0c9-4a5c-ec37-b8e5c935c27a"
      },
      "execution_count": 82,
      "outputs": [
        {
          "output_type": "stream",
          "name": "stdout",
          "text": [
            "Requirement already satisfied: torchio in /usr/local/lib/python3.11/dist-packages (0.20.19)\n",
            "Requirement already satisfied: deprecated>=1.2 in /usr/local/lib/python3.11/dist-packages (from torchio) (1.2.18)\n",
            "Requirement already satisfied: einops>=0.3 in /usr/local/lib/python3.11/dist-packages (from torchio) (0.8.1)\n",
            "Requirement already satisfied: humanize>=0.1 in /usr/local/lib/python3.11/dist-packages (from torchio) (4.12.3)\n",
            "Requirement already satisfied: nibabel>=3 in /usr/local/lib/python3.11/dist-packages (from torchio) (5.3.2)\n",
            "Requirement already satisfied: numpy>=1.20 in /usr/local/lib/python3.11/dist-packages (from torchio) (2.0.2)\n",
            "Requirement already satisfied: packaging>=20 in /usr/local/lib/python3.11/dist-packages (from torchio) (25.0)\n",
            "Requirement already satisfied: rich>=10 in /usr/local/lib/python3.11/dist-packages (from torchio) (13.9.4)\n",
            "Requirement already satisfied: scipy>=1.7 in /usr/local/lib/python3.11/dist-packages (from torchio) (1.15.3)\n",
            "Requirement already satisfied: simpleitk!=2.0.*,!=2.1.1.1,>=1.3 in /usr/local/lib/python3.11/dist-packages (from torchio) (2.5.2)\n",
            "Requirement already satisfied: torch>=1.9 in /usr/local/lib/python3.11/dist-packages (from torchio) (2.6.0+cu124)\n",
            "Requirement already satisfied: tqdm>=4.40 in /usr/local/lib/python3.11/dist-packages (from torchio) (4.67.1)\n",
            "Requirement already satisfied: typer>=0.1 in /usr/local/lib/python3.11/dist-packages (from torchio) (0.16.0)\n",
            "Requirement already satisfied: wrapt<2,>=1.10 in /usr/local/lib/python3.11/dist-packages (from deprecated>=1.2->torchio) (1.17.2)\n",
            "Requirement already satisfied: importlib-resources>=5.12 in /usr/local/lib/python3.11/dist-packages (from nibabel>=3->torchio) (6.5.2)\n",
            "Requirement already satisfied: typing-extensions>=4.6 in /usr/local/lib/python3.11/dist-packages (from nibabel>=3->torchio) (4.14.1)\n",
            "Requirement already satisfied: markdown-it-py>=2.2.0 in /usr/local/lib/python3.11/dist-packages (from rich>=10->torchio) (3.0.0)\n",
            "Requirement already satisfied: pygments<3.0.0,>=2.13.0 in /usr/local/lib/python3.11/dist-packages (from rich>=10->torchio) (2.19.2)\n",
            "Requirement already satisfied: filelock in /usr/local/lib/python3.11/dist-packages (from torch>=1.9->torchio) (3.18.0)\n",
            "Requirement already satisfied: networkx in /usr/local/lib/python3.11/dist-packages (from torch>=1.9->torchio) (3.5)\n",
            "Requirement already satisfied: jinja2 in /usr/local/lib/python3.11/dist-packages (from torch>=1.9->torchio) (3.1.6)\n",
            "Requirement already satisfied: fsspec in /usr/local/lib/python3.11/dist-packages (from torch>=1.9->torchio) (2025.3.2)\n",
            "Requirement already satisfied: nvidia-cuda-nvrtc-cu12==12.4.127 in /usr/local/lib/python3.11/dist-packages (from torch>=1.9->torchio) (12.4.127)\n",
            "Requirement already satisfied: nvidia-cuda-runtime-cu12==12.4.127 in /usr/local/lib/python3.11/dist-packages (from torch>=1.9->torchio) (12.4.127)\n",
            "Requirement already satisfied: nvidia-cuda-cupti-cu12==12.4.127 in /usr/local/lib/python3.11/dist-packages (from torch>=1.9->torchio) (12.4.127)\n",
            "Requirement already satisfied: nvidia-cudnn-cu12==9.1.0.70 in /usr/local/lib/python3.11/dist-packages (from torch>=1.9->torchio) (9.1.0.70)\n",
            "Requirement already satisfied: nvidia-cublas-cu12==12.4.5.8 in /usr/local/lib/python3.11/dist-packages (from torch>=1.9->torchio) (12.4.5.8)\n",
            "Requirement already satisfied: nvidia-cufft-cu12==11.2.1.3 in /usr/local/lib/python3.11/dist-packages (from torch>=1.9->torchio) (11.2.1.3)\n",
            "Requirement already satisfied: nvidia-curand-cu12==10.3.5.147 in /usr/local/lib/python3.11/dist-packages (from torch>=1.9->torchio) (10.3.5.147)\n",
            "Requirement already satisfied: nvidia-cusolver-cu12==11.6.1.9 in /usr/local/lib/python3.11/dist-packages (from torch>=1.9->torchio) (11.6.1.9)\n",
            "Requirement already satisfied: nvidia-cusparse-cu12==12.3.1.170 in /usr/local/lib/python3.11/dist-packages (from torch>=1.9->torchio) (12.3.1.170)\n",
            "Requirement already satisfied: nvidia-cusparselt-cu12==0.6.2 in /usr/local/lib/python3.11/dist-packages (from torch>=1.9->torchio) (0.6.2)\n",
            "Requirement already satisfied: nvidia-nccl-cu12==2.21.5 in /usr/local/lib/python3.11/dist-packages (from torch>=1.9->torchio) (2.21.5)\n",
            "Requirement already satisfied: nvidia-nvtx-cu12==12.4.127 in /usr/local/lib/python3.11/dist-packages (from torch>=1.9->torchio) (12.4.127)\n",
            "Requirement already satisfied: nvidia-nvjitlink-cu12==12.4.127 in /usr/local/lib/python3.11/dist-packages (from torch>=1.9->torchio) (12.4.127)\n",
            "Requirement already satisfied: triton==3.2.0 in /usr/local/lib/python3.11/dist-packages (from torch>=1.9->torchio) (3.2.0)\n",
            "Requirement already satisfied: sympy==1.13.1 in /usr/local/lib/python3.11/dist-packages (from torch>=1.9->torchio) (1.13.1)\n",
            "Requirement already satisfied: mpmath<1.4,>=1.1.0 in /usr/local/lib/python3.11/dist-packages (from sympy==1.13.1->torch>=1.9->torchio) (1.3.0)\n",
            "Requirement already satisfied: click>=8.0.0 in /usr/local/lib/python3.11/dist-packages (from typer>=0.1->torchio) (8.2.1)\n",
            "Requirement already satisfied: shellingham>=1.3.0 in /usr/local/lib/python3.11/dist-packages (from typer>=0.1->torchio) (1.5.4)\n",
            "Requirement already satisfied: mdurl~=0.1 in /usr/local/lib/python3.11/dist-packages (from markdown-it-py>=2.2.0->rich>=10->torchio) (0.1.2)\n",
            "Requirement already satisfied: MarkupSafe>=2.0 in /usr/local/lib/python3.11/dist-packages (from jinja2->torch>=1.9->torchio) (3.0.2)\n"
          ]
        }
      ]
    },
    {
      "cell_type": "markdown",
      "source": [
        "Improved model and training"
      ],
      "metadata": {
        "id": "0MvXlPzi0Oyu"
      }
    },
    {
      "cell_type": "code",
      "source": [
        "import torch.nn as nn, torch.optim as optim\n",
        "\n",
        "class Basic3DCNN(nn.Module):\n",
        "    def __init__(self):\n",
        "        super().__init__()\n",
        "        self.conv1 = nn.Conv3d(1,16,3,padding=1);   self.bn1 = nn.BatchNorm3d(16)\n",
        "        self.conv2 = nn.Conv3d(16,32,3,padding=1);  self.bn2 = nn.BatchNorm3d(32)\n",
        "        self.conv3 = nn.Conv3d(32,64,3,padding=1);  self.bn3 = nn.BatchNorm3d(64)\n",
        "        self.pool  = nn.MaxPool3d(2)\n",
        "        flat = 64*(patch_size[0]//8)*(patch_size[1]//8)*(patch_size[2]//8)\n",
        "        self.fc1   = nn.Linear(flat,128)\n",
        "        self.drop  = nn.Dropout(0.4)\n",
        "        self.fc2   = nn.Linear(128,2)\n",
        "    def forward(self,x):\n",
        "        x = self.pool(F.relu(self.bn1(self.conv1(x))))\n",
        "        x = self.pool(F.relu(self.bn2(self.conv2(x))))\n",
        "        x = self.pool(F.relu(self.bn3(self.conv3(x))))\n",
        "        x = x.view(x.size(0),-1)\n",
        "        x = F.relu(self.fc1(x))\n",
        "        x = self.drop(x)\n",
        "        return self.fc2(x)\n",
        "\n",
        "device = torch.device('cuda' if torch.cuda.is_available() else 'cpu')\n",
        "model  = Basic3DCNN().to(device)\n",
        "\n",
        "# compute class weights once\n",
        "train_df = pd.read_csv('/content/train.csv')\n",
        "counts   = train_df.binary.value_counts().sort_index().values\n",
        "cw       = torch.tensor([1.0/counts[0], 1.0/counts[1]],\n",
        "                        dtype=torch.float32, device=device)\n",
        "\n",
        "criterion = nn.CrossEntropyLoss(weight=cw, label_smoothing=0.1)\n",
        "optimizer = optim.AdamW(model.parameters(), lr=1e-5, weight_decay=1e-5)\n",
        "scheduler = optim.lr_scheduler.ReduceLROnPlateau(optimizer,\n",
        "                                                 mode='min',\n",
        "                                                 factor=0.5,\n",
        "                                                 patience=1,\n",
        "                                                 verbose=True)\n",
        "\n",
        "def train_epoch(loader):\n",
        "    model.train(); total=0\n",
        "    for x,y in loader:\n",
        "        x,y = x.to(device), y.to(device)\n",
        "        optimizer.zero_grad()\n",
        "        loss = criterion(model(x), y)\n",
        "        loss.backward(); optimizer.step()\n",
        "        total += loss.item()\n",
        "    return total/len(loader)\n",
        "\n",
        "def eval_loader(loader):\n",
        "    model.eval(); total=0; correct=0; n=0\n",
        "    with torch.no_grad():\n",
        "        for x,y in loader:\n",
        "            x,y = x.to(device), y.to(device)\n",
        "            out  = model(x)\n",
        "            total += criterion(out,y).item()\n",
        "            preds  = out.argmax(1)\n",
        "            correct += (preds==y).sum().item()\n",
        "            n += y.size(0)\n",
        "    return total/len(loader), correct/n\n"
      ],
      "metadata": {
        "colab": {
          "base_uri": "https://localhost:8080/"
        },
        "id": "uiZxtsMkx7I7",
        "outputId": "fe764a52-c673-423e-f96d-a951fda42ab8"
      },
      "execution_count": 83,
      "outputs": [
        {
          "output_type": "stream",
          "name": "stderr",
          "text": [
            "/usr/local/lib/python3.11/dist-packages/torch/optim/lr_scheduler.py:62: UserWarning: The verbose parameter is deprecated. Please use get_last_lr() to access the learning rate.\n",
            "  warnings.warn(\n"
          ]
        }
      ]
    },
    {
      "cell_type": "code",
      "source": [
        "from sklearn.model_selection import StratifiedKFold\n",
        "import copy, numpy as np\n",
        "\n",
        "# Combine train+val for CV\n",
        "df_tv = pd.concat([pd.read_csv('/content/train.csv'),\n",
        "                   pd.read_csv('/content/val.csv')]).reset_index(drop=True)\n",
        "X, y  = df_tv, df_tv.binary.values\n",
        "\n",
        "skf = StratifiedKFold(5, shuffle=True, random_state=42)\n",
        "fold_states = []\n",
        "\n",
        "for fold,(ti,vi) in enumerate(skf.split(X,y),1):\n",
        "    print(f\"⏳ Fold {fold}/5\")\n",
        "    # subset CSVs\n",
        "    X.iloc[ti].to_csv('/content/tmp_train.csv',index=False)\n",
        "    X.iloc[vi].to_csv('/content/tmp_val.csv',  index=False)\n",
        "    # rebuild loaders\n",
        "    tl = make_loader('/content/tmp_train.csv', train_transform, batch_size=2)\n",
        "    vl = make_loader('/content/tmp_val.csv',   val_transform,   batch_size=2)\n",
        "    # fresh model & optim\n",
        "    m  = Basic3DCNN().to(device)\n",
        "    opt = optim.AdamW(m.parameters(), lr=1e-5, weight_decay=1e-5)\n",
        "    sched = optim.lr_scheduler.ReduceLROnPlateau(opt, mode='min',\n",
        "                                                factor=0.5, patience=1)\n",
        "    best_va = 0\n",
        "    for ep in range(1,16):\n",
        "        _ = train_epoch(tl)\n",
        "        vl_loss, vl_acc = eval_loader(vl)\n",
        "        sched.step(vl_loss)\n",
        "        if vl_acc>best_va:\n",
        "            best_va = vl_acc\n",
        "            best_state = copy.deepcopy(m.state_dict())\n",
        "    print(f\"→ Fold {fold} best val acc {best_va:.3%}\")\n",
        "    fold_states.append(best_state)\n",
        "\n",
        "# Ensemble on test set\n",
        "all_probs, all_labels = [], []\n",
        "for x,y in test_loader:\n",
        "    x = x.to(device)\n",
        "    batch_p = []\n",
        "    for st in fold_states:\n",
        "        model.load_state_dict(st)\n",
        "        with torch.no_grad():\n",
        "            out = model(x)\n",
        "            p = torch.softmax(out,1)[:,1].cpu().numpy()\n",
        "        batch_p.append(p)\n",
        "    all_probs.extend(np.mean(batch_p,axis=0))\n",
        "    all_labels.extend(y.numpy())\n",
        "\n",
        "# Final metrics\n",
        "preds = [1 if p>=0.5 else 0 for p in all_probs]\n",
        "from sklearn.metrics import accuracy_score, f1_score, roc_auc_score\n",
        "print(\"Ensemble Acc:\", accuracy_score(all_labels,preds))\n",
        "print(\"Ensemble F1:\", f1_score(all_labels,preds))\n",
        "print(\"Ensemble AUC:\", roc_auc_score(all_labels, all_probs))\n"
      ],
      "metadata": {
        "colab": {
          "base_uri": "https://localhost:8080/"
        },
        "id": "vAcPQPmF0Wqv",
        "outputId": "54f81281-c1a1-44b3-884a-99fa2a5b7d93"
      },
      "execution_count": 84,
      "outputs": [
        {
          "output_type": "stream",
          "name": "stdout",
          "text": [
            "⏳ Fold 1/5\n",
            "→ Fold 1 best val acc 57.692%\n",
            "⏳ Fold 2/5\n",
            "→ Fold 2 best val acc 73.077%\n",
            "⏳ Fold 3/5\n",
            "→ Fold 3 best val acc 92.308%\n",
            "⏳ Fold 4/5\n",
            "→ Fold 4 best val acc 92.308%\n",
            "⏳ Fold 5/5\n",
            "→ Fold 5 best val acc 92.308%\n",
            "Ensemble Acc: 0.3157894736842105\n",
            "Ensemble F1: 0.0\n",
            "Ensemble AUC: 0.4700854700854701\n"
          ]
        }
      ]
    },
    {
      "cell_type": "code",
      "source": [
        "from sklearn.metrics import confusion_matrix\n",
        "import matplotlib.pyplot as plt\n",
        "import seaborn as sns  # seaborn for heatmap convenience\n",
        "\n",
        "cm = confusion_matrix(all_labels, preds)\n",
        "plt.figure(figsize=(5,4))\n",
        "sns.heatmap(cm, annot=True, fmt=\"d\", cmap=\"Blues\",\n",
        "            xticklabels=[\"CN\",\"AD/MCI\"],\n",
        "            yticklabels=[\"CN\",\"AD/MCI\"])\n",
        "plt.xlabel(\"Predicted\"); plt.ylabel(\"True\")\n",
        "plt.title(\"Ensemble Confusion Matrix\")\n",
        "plt.show()\n"
      ],
      "metadata": {
        "colab": {
          "base_uri": "https://localhost:8080/",
          "height": 410
        },
        "id": "rD99v8fASV4R",
        "outputId": "4dbb95b5-989b-4c7b-9c01-6c9d0916366f"
      },
      "execution_count": 85,
      "outputs": [
        {
          "output_type": "display_data",
          "data": {
            "text/plain": [
              "<Figure size 500x400 with 2 Axes>"
            ],
            "image/png": "[encoded data removed]"
          },
          "metadata": {}
        }
      ]
    },
    {
      "cell_type": "code",
      "source": [
        "from sklearn.metrics import roc_curve, auc, precision_recall_curve\n",
        "\n",
        "# ROC\n",
        "fpr, tpr, _ = roc_curve(all_labels, all_probs)\n",
        "plt.figure(); plt.plot(fpr,tpr,label=f\"AUC={roc_auc_score(all_labels,all_probs):.3f}\")\n",
        "plt.plot([0,1],[0,1],\"--\",color=\"gray\")\n",
        "plt.xlabel(\"FPR\"); plt.ylabel(\"TPR\"); plt.title(\"Ensemble ROC\"); plt.legend(); plt.grid(); plt.show()\n",
        "\n"
      ],
      "metadata": {
        "colab": {
          "base_uri": "https://localhost:8080/",
          "height": 472
        },
        "id": "z-nIRNzTS3H1",
        "outputId": "0543106f-6d47-4e55-f085-6ed01cbacf37"
      },
      "execution_count": 87,
      "outputs": [
        {
          "output_type": "display_data",
          "data": {
            "text/plain": [
              "<Figure size 640x480 with 1 Axes>"
            ],
            "image/png": "[encoded data removed]"
          },
          "metadata": {}
        }
      ]
    },
    {
      "cell_type": "code",
      "source": [
        "import numpy as np\n",
        "import matplotlib.pyplot as plt\n",
        "from sklearn.metrics import f1_score, accuracy_score, roc_auc_score\n",
        "\n",
        "# 1) Plot the histogram of ensemble probabilities\n",
        "plt.hist(all_probs, bins=20)\n",
        "plt.axvline(0.5, color='red', linestyle='--', label='0.5 cutoff')\n",
        "plt.title(\"Ensemble AD/MCI probabilities\"); plt.legend(); plt.show()\n",
        "\n",
        "# 2) Threshold sweep to maximize F1\n",
        "ths = np.linspace(0,1,101)\n",
        "best = {'th':None, 'f1':-1, 'acc':0}\n",
        "for t in ths:\n",
        "    preds_t = [1 if p>=t else 0 for p in all_probs]\n",
        "    f1 = f1_score(all_labels, preds_t, zero_division=0)\n",
        "    acc = accuracy_score(all_labels, preds_t)\n",
        "    if f1 > best['f1']:\n",
        "        best.update({'th':t, 'f1':f1, 'acc':acc})\n",
        "print(f\"🔍 Best threshold = {best['th']:.2f} → F1 = {best['f1']:.3f}, Acc = {best['acc']:.3f}\")\n",
        "\n",
        "# 3) Apply that threshold and report new metrics\n",
        "t0 = best['th']\n",
        "preds_opt = [1 if p>=t0 else 0 for p in all_probs]\n",
        "print(\"→ New ensemble Acc:\", accuracy_score(all_labels,preds_opt))\n",
        "print(\"→ New ensemble F1: \", f1_score(all_labels,preds_opt))\n",
        "print(\"→ New ensemble AUC:\", roc_auc_score(all_labels, all_probs))\n",
        "\n",
        "# 4) (Bonus) Majority‑vote ensemble\n",
        "#    Each fold model casts a hard vote, we pick the class with >2 votes\n",
        "from collections import Counter\n",
        "hard_preds = []\n",
        "for i in range(len(test_loader.dataset)):\n",
        "    votes = []\n",
        "    for st in fold_states:\n",
        "        model.load_state_dict(st)\n",
        "        x,_ = test_loader.dataset[i]  # single sample\n",
        "        out = model(x.unsqueeze(0).to(device))\n",
        "        votes.append(int(out.argmax(1).item()))\n",
        "    hard_preds.append(Counter(votes).most_common(1)[0][0])\n",
        "\n",
        "print(\"→ Vote Acc:\", accuracy_score(all_labels, hard_preds))\n",
        "print(\"→ Vote F1: \", f1_score(all_labels, hard_preds))\n",
        "print(\"→ Vote AUC:\", roc_auc_score(all_labels, all_probs))\n"
      ],
      "metadata": {
        "colab": {
          "base_uri": "https://localhost:8080/",
          "height": 579
        },
        "id": "DHbx94OcTwXt",
        "outputId": "a71a7621-429a-4590-f00c-8c4a74122d8b"
      },
      "execution_count": 88,
      "outputs": [
        {
          "output_type": "display_data",
          "data": {
            "text/plain": [
              "<Figure size 640x480 with 1 Axes>"
            ],
            "image/png": "[encoded data removed]"
          },
          "metadata": {}
        },
        {
          "output_type": "stream",
          "name": "stdout",
          "text": [
            "🔍 Best threshold = 0.00 → F1 = 0.812, Acc = 0.684\n",
            "→ New ensemble Acc: 0.6842105263157895\n",
            "→ New ensemble F1:  0.8125\n",
            "→ New ensemble AUC: 0.4700854700854701\n",
            "→ Vote Acc: 0.3157894736842105\n",
            "→ Vote F1:  0.0\n",
            "→ Vote AUC: 0.4700854700854701\n"
          ]
        }
      ]
    },
    {
      "cell_type": "code",
      "source": [],
      "metadata": {
        "id": "qj1aGKysXQps"
      },
      "execution_count": null,
      "outputs": []
    },
    {
      "cell_type": "code",
      "source": [],
      "metadata": {
        "id": "MjWaBJSsb9yJ"
      },
      "execution_count": null,
      "outputs": []
    }
  ]
}